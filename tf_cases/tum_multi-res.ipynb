{
 "metadata": {
  "language_info": {
   "codemirror_mode": {
    "name": "ipython",
    "version": 3
   },
   "file_extension": ".py",
   "mimetype": "text/x-python",
   "name": "python",
   "nbconvert_exporter": "python",
   "pygments_lexer": "ipython3",
   "version": "3.7.9-final"
  },
  "orig_nbformat": 2,
  "kernelspec": {
   "name": "python37964bittfconda4341aa1551314b3a952a60b6b86fb755",
   "display_name": "Python 3.7.9 64-bit ('tf': conda)",
   "language": "python"
  }
 },
 "nbformat": 4,
 "nbformat_minor": 2,
 "cells": [
  {
   "source": [
    "# Setting up the Simple `TUM`"
   ],
   "cell_type": "markdown",
   "metadata": {}
  },
  {
   "cell_type": "code",
   "execution_count": null,
   "metadata": {},
   "outputs": [],
   "source": [
    "from phi.tf.flow import *  # Causes deprecation warnings with TF 1.15\n",
    "import pylab\n",
    "import numpy as np\n",
    "import TUM_flow\n",
    "\n",
    "%load_ext autoreload\n",
    "%autoreload 2"
   ]
  },
  {
   "cell_type": "code",
   "execution_count": null,
   "metadata": {},
   "outputs": [],
   "source": [
    "#Set parameters\n",
    "params_08 = {'res': 8,\n",
    "            'frames': 10,\n",
    "            'optim_steps': 50\n",
    "            }\n",
    "\n",
    "#Initialize object and build graphs\n",
    "flow_08 = TUM_flow(params_08)\n",
    "flow_08.build_graphs()"
   ]
  },
  {
   "cell_type": "code",
   "execution_count": null,
   "metadata": {},
   "outputs": [],
   "source": [
    "#Set target, optimize and get optimized velocities\n",
    "flow_08.set_target('tum/tum_08.png')\n",
    "flow_08.train()\n",
    "optimized_vel_08 = flow_08.get_optimized_velocities()"
   ]
  },
  {
   "cell_type": "code",
   "execution_count": null,
   "metadata": {},
   "outputs": [],
   "source": [
    "#Plot optimized velocity for step 0\n",
    "pylab.title('Initial y-velocity (optimized)')\n",
    "pylab.imshow(np.concatenate(optimized_vel_08[0].data[...,0], axis=1), origin='lower')\n",
    "pylab.show()"
   ]
  },
  {
   "cell_type": "code",
   "execution_count": null,
   "metadata": {},
   "outputs": [],
   "source": [
    "print(optimized_vel_08[0].shape())\n",
    "#optimized_vel_16ip = sc_interp.griddata( ,method='cubic')"
   ]
  }
 ]
}