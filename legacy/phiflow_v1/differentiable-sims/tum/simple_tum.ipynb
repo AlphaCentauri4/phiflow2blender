{
 "metadata": {
  "language_info": {
   "codemirror_mode": {
    "name": "ipython",
    "version": 3
   },
   "file_extension": ".py",
   "mimetype": "text/x-python",
   "name": "python",
   "nbconvert_exporter": "python",
   "pygments_lexer": "ipython3",
   "version": "3.7.9-final"
  },
  "orig_nbformat": 2,
  "kernelspec": {
   "name": "python37964bittfconda4341aa1551314b3a952a60b6b86fb755",
   "display_name": "Python 3.7.9 64-bit ('tf': conda)",
   "language": "python"
  }
 },
 "nbformat": 4,
 "nbformat_minor": 2,
 "cells": [
  {
   "source": [
    "# Setting up the Simple `TUM`"
   ],
   "cell_type": "markdown",
   "metadata": {}
  },
  {
   "cell_type": "code",
   "execution_count": 2,
   "metadata": {},
   "outputs": [
    {
     "output_type": "stream",
     "name": "stderr",
     "text": [
      "/home/intergalactic-mammoth/anaconda3/envs/tf/lib/python3.7/site-packages/tensorflow/python/framework/dtypes.py:516: FutureWarning: Passing (type, 1) or '1type' as a synonym of type is deprecated; in a future version of numpy, it will be understood as (type, (1,)) / '(1,)type'.\n",
      "  _np_qint8 = np.dtype([(\"qint8\", np.int8, 1)])\n",
      "/home/intergalactic-mammoth/anaconda3/envs/tf/lib/python3.7/site-packages/tensorflow/python/framework/dtypes.py:517: FutureWarning: Passing (type, 1) or '1type' as a synonym of type is deprecated; in a future version of numpy, it will be understood as (type, (1,)) / '(1,)type'.\n",
      "  _np_quint8 = np.dtype([(\"quint8\", np.uint8, 1)])\n",
      "/home/intergalactic-mammoth/anaconda3/envs/tf/lib/python3.7/site-packages/tensorflow/python/framework/dtypes.py:518: FutureWarning: Passing (type, 1) or '1type' as a synonym of type is deprecated; in a future version of numpy, it will be understood as (type, (1,)) / '(1,)type'.\n",
      "  _np_qint16 = np.dtype([(\"qint16\", np.int16, 1)])\n",
      "/home/intergalactic-mammoth/anaconda3/envs/tf/lib/python3.7/site-packages/tensorflow/python/framework/dtypes.py:519: FutureWarning: Passing (type, 1) or '1type' as a synonym of type is deprecated; in a future version of numpy, it will be understood as (type, (1,)) / '(1,)type'.\n",
      "  _np_quint16 = np.dtype([(\"quint16\", np.uint16, 1)])\n",
      "/home/intergalactic-mammoth/anaconda3/envs/tf/lib/python3.7/site-packages/tensorflow/python/framework/dtypes.py:520: FutureWarning: Passing (type, 1) or '1type' as a synonym of type is deprecated; in a future version of numpy, it will be understood as (type, (1,)) / '(1,)type'.\n",
      "  _np_qint32 = np.dtype([(\"qint32\", np.int32, 1)])\n",
      "/home/intergalactic-mammoth/anaconda3/envs/tf/lib/python3.7/site-packages/tensorflow/python/framework/dtypes.py:525: FutureWarning: Passing (type, 1) or '1type' as a synonym of type is deprecated; in a future version of numpy, it will be understood as (type, (1,)) / '(1,)type'.\n",
      "  np_resource = np.dtype([(\"resource\", np.ubyte, 1)])\n",
      "Could not load resample cuda libraries: CUDA binaries not found at /home/intergalactic-mammoth/anaconda3/envs/tf/lib/python3.7/site-packages/phi/tf/cuda/build/resample.so. Run \"python setup.py cuda\" to compile them\n",
      "WARNING:tensorflow:From /home/intergalactic-mammoth/anaconda3/envs/tf/lib/python3.7/site-packages/phi/tf/util.py:119: The name tf.AUTO_REUSE is deprecated. Please use tf.compat.v1.AUTO_REUSE instead.\n",
      "\n",
      "WARNING:tensorflow:From /home/intergalactic-mammoth/anaconda3/envs/tf/lib/python3.7/site-packages/phi/tf/profiling.py:12: The name tf.RunOptions is deprecated. Please use tf.compat.v1.RunOptions instead.\n",
      "\n",
      "WARNING:tensorflow:From /home/intergalactic-mammoth/anaconda3/envs/tf/lib/python3.7/site-packages/phi/tf/profiling.py:13: The name tf.RunMetadata is deprecated. Please use tf.compat.v1.RunMetadata instead.\n",
      "\n",
      "/home/intergalactic-mammoth/anaconda3/envs/tf/lib/python3.7/site-packages/tensorboard/compat/tensorflow_stub/dtypes.py:541: FutureWarning: Passing (type, 1) or '1type' as a synonym of type is deprecated; in a future version of numpy, it will be understood as (type, (1,)) / '(1,)type'.\n",
      "  _np_qint8 = np.dtype([(\"qint8\", np.int8, 1)])\n",
      "/home/intergalactic-mammoth/anaconda3/envs/tf/lib/python3.7/site-packages/tensorboard/compat/tensorflow_stub/dtypes.py:542: FutureWarning: Passing (type, 1) or '1type' as a synonym of type is deprecated; in a future version of numpy, it will be understood as (type, (1,)) / '(1,)type'.\n",
      "  _np_quint8 = np.dtype([(\"quint8\", np.uint8, 1)])\n",
      "/home/intergalactic-mammoth/anaconda3/envs/tf/lib/python3.7/site-packages/tensorboard/compat/tensorflow_stub/dtypes.py:543: FutureWarning: Passing (type, 1) or '1type' as a synonym of type is deprecated; in a future version of numpy, it will be understood as (type, (1,)) / '(1,)type'.\n",
      "  _np_qint16 = np.dtype([(\"qint16\", np.int16, 1)])\n",
      "/home/intergalactic-mammoth/anaconda3/envs/tf/lib/python3.7/site-packages/tensorboard/compat/tensorflow_stub/dtypes.py:544: FutureWarning: Passing (type, 1) or '1type' as a synonym of type is deprecated; in a future version of numpy, it will be understood as (type, (1,)) / '(1,)type'.\n",
      "  _np_quint16 = np.dtype([(\"quint16\", np.uint16, 1)])\n",
      "/home/intergalactic-mammoth/anaconda3/envs/tf/lib/python3.7/site-packages/tensorboard/compat/tensorflow_stub/dtypes.py:545: FutureWarning: Passing (type, 1) or '1type' as a synonym of type is deprecated; in a future version of numpy, it will be understood as (type, (1,)) / '(1,)type'.\n",
      "  _np_qint32 = np.dtype([(\"qint32\", np.int32, 1)])\n",
      "/home/intergalactic-mammoth/anaconda3/envs/tf/lib/python3.7/site-packages/tensorboard/compat/tensorflow_stub/dtypes.py:550: FutureWarning: Passing (type, 1) or '1type' as a synonym of type is deprecated; in a future version of numpy, it will be understood as (type, (1,)) / '(1,)type'.\n",
      "  np_resource = np.dtype([(\"resource\", np.ubyte, 1)])\n",
      "/home/intergalactic-mammoth/anaconda3/envs/tf/lib/python3.7/site-packages/phi/viz/display.py:80: UserWarning: GUI is disabled because of missing dependencies: No module named 'dash_core_components'. To install all dependencies, run $ pip install phiflow[gui]\n",
      "  warnings.warn('GUI is disabled because of missing dependencies: %s. To install all dependencies, run $ pip install phiflow[gui]' % import_error)\n",
      "/home/intergalactic-mammoth/anaconda3/envs/tf/lib/python3.7/site-packages/phi/tf/flow.py:15: UserWarning: TensorFlow-CUDA solver is not available. To compile it, download phiflow sources and run\n",
      "$ python setup.py tf_cuda\n",
      "before reinstalling phiflow.\n",
      "  warnings.warn(\"TensorFlow-CUDA solver is not available. To compile it, download phiflow sources and run\\n$ python setup.py tf_cuda\\nbefore reinstalling phiflow.\")\n",
      "WARNING:tensorflow:From /home/intergalactic-mammoth/anaconda3/envs/tf/lib/python3.7/site-packages/phi/tf/session.py:17: The name tf.Session is deprecated. Please use tf.compat.v1.Session instead.\n",
      "\n",
      "WARNING:tensorflow:From /home/intergalactic-mammoth/anaconda3/envs/tf/lib/python3.7/site-packages/phi/tf/session.py:18: The name tf.get_default_graph is deprecated. Please use tf.compat.v1.get_default_graph instead.\n",
      "\n"
     ]
    }
   ],
   "source": [
    "from phi.tf.flow import *  # Causes deprecation warnings with TF 1.15\n",
    "import pylab\n",
    "import numpy as np\n",
    "session = Session(None)  # Used to run the TensorFlow graph\n",
    "\n",
    "%load_ext autoreload\n",
    "%autoreload 2"
   ]
  },
  {
   "cell_type": "code",
   "execution_count": 3,
   "metadata": {},
   "outputs": [],
   "source": [
    "#setup\n",
    "\n",
    "save_imgs = True\n",
    "res = 8\n",
    "buoyancy = 0.0\n",
    "rate = 5\n",
    "radius = 2"
   ]
  },
  {
   "cell_type": "code",
   "execution_count": 4,
   "metadata": {},
   "outputs": [
    {
     "output_type": "stream",
     "name": "stdout",
     "text": [
      "WARNING:tensorflow:From /home/intergalactic-mammoth/anaconda3/envs/tf/lib/python3.7/site-packages/phi/tf/session.py:29: The name tf.train.Saver is deprecated. Please use tf.compat.v1.train.Saver instead.\n\n"
     ]
    }
   ],
   "source": [
    "#Create the optimizable simulation\n",
    "#buoyancy is set to zero\n",
    "\n",
    "world = World()\n",
    "fluid = world.add(Fluid(Domain([2*res, 3*res], boundaries=CLOSED), buoyancy_factor=buoyancy), physics=IncompressibleFlow())\n",
    "world.add(Inflow(Sphere(center=[0.3*res,1.5*res], radius=radius), rate=rate))\n",
    "world.add(Inflow(Sphere(center=[0.3*res,0.75*res], radius=radius), rate=rate))\n",
    "world.add(Inflow(Sphere(center=[0.3*res,2.25*res], radius=radius), rate=rate))\n",
    "#world.add(Inflow(box[0.1*res:0.35*res, 0.5*res:2.5*res], rate = rate))\n",
    "\n",
    "fluid.velocity = variable(fluid.velocity)  # create TensorFlow variable\n",
    "states = []\n",
    "states.append(fluid.state)  # Remember the state at t=0 for later visualization\n",
    "session.initialize_variables()\n",
    "\n"
   ]
  },
  {
   "cell_type": "code",
   "execution_count": 5,
   "metadata": {},
   "outputs": [
    {
     "output_type": "stream",
     "name": "stdout",
     "text": [
      "<tf.Variable 'Variable/data/0/data:0' shape=(1, 17, 24, 1) dtype=float32_ref>\n<tf.Variable 'Variable/data/1/data:0' shape=(1, 16, 25, 1) dtype=float32_ref>\n"
     ]
    }
   ],
   "source": [
    "#See tensorflow variables\n",
    "[print(grid.data) for grid in fluid.velocity.unstack()];"
   ]
  },
  {
   "cell_type": "code",
   "execution_count": 6,
   "metadata": {},
   "outputs": [
    {
     "output_type": "stream",
     "name": "stdout",
     "text": [
      "Building graph for frame 0\n",
      "Building graph for frame 1\n",
      "Building graph for frame 2\n",
      "Building graph for frame 3\n",
      "Building graph for frame 4\n",
      "Building graph for frame 5\n",
      "Building graph for frame 6\n",
      "Building graph for frame 7\n",
      "Building graph for frame 8\n",
      "Building graph for frame 9\n",
      "Building graph for frame 10\n",
      "Building graph for frame 11\n",
      "Building graph for frame 12\n",
      "Building graph for frame 13\n",
      "Building graph for frame 14\n",
      "Building graph for frame 15\n",
      "Building graph for frame 16\n",
      "Building graph for frame 17\n",
      "Building graph for frame 18\n",
      "Building graph for frame 19\n",
      "Building graph for frame 20\n",
      "Building graph for frame 21\n",
      "Building graph for frame 22\n",
      "Building graph for frame 23\n",
      "Building graph for frame 24\n",
      "Building graph for frame 25\n",
      "Building graph for frame 26\n",
      "Building graph for frame 27\n",
      "Building graph for frame 28\n",
      "Building graph for frame 29\n",
      "Building graph for frame 30\n",
      "Building graph for frame 31\n",
      "Building graph for frame 32\n",
      "Building graph for frame 33\n",
      "Building graph for frame 34\n",
      "Building graph for frame 35\n",
      "Building graph for frame 36\n",
      "Building graph for frame 37\n",
      "Building graph for frame 38\n",
      "Building graph for frame 39\n",
      "Building graph for frame 40\n",
      "Building graph for frame 41\n",
      "Building graph for frame 42\n",
      "Building graph for frame 43\n",
      "Building graph for frame 44\n",
      "Building graph for frame 45\n",
      "Building graph for frame 46\n",
      "Building graph for frame 47\n",
      "Building graph for frame 48\n",
      "Building graph for frame 49\n",
      "Computing frames...\n"
     ]
    },
    {
     "output_type": "execute_result",
     "data": {
      "text/plain": [
       "<matplotlib.image.AxesImage at 0x7f1ab19373d0>"
      ]
     },
     "metadata": {},
     "execution_count": 6
    },
    {
     "output_type": "display_data",
     "data": {
      "text/plain": "<Figure size 432x288 with 1 Axes>",
      "image/svg+xml": "<?xml version=\"1.0\" encoding=\"utf-8\" standalone=\"no\"?>\n<!DOCTYPE svg PUBLIC \"-//W3C//DTD SVG 1.1//EN\"\n  \"http://www.w3.org/Graphics/SVG/1.1/DTD/svg11.dtd\">\n<!-- Created with matplotlib (https://matplotlib.org/) -->\n<svg height=\"248.518125pt\" version=\"1.1\" viewBox=\"0 0 360.285 248.518125\" width=\"360.285pt\" xmlns=\"http://www.w3.org/2000/svg\" xmlns:xlink=\"http://www.w3.org/1999/xlink\">\n <metadata>\n  <rdf:RDF xmlns:cc=\"http://creativecommons.org/ns#\" xmlns:dc=\"http://purl.org/dc/elements/1.1/\" xmlns:rdf=\"http://www.w3.org/1999/02/22-rdf-syntax-ns#\">\n   <cc:Work>\n    <dc:type rdf:resource=\"http://purl.org/dc/dcmitype/StillImage\"/>\n    <dc:date>2021-03-23T10:34:34.516501</dc:date>\n    <dc:format>image/svg+xml</dc:format>\n    <dc:creator>\n     <cc:Agent>\n      <dc:title>Matplotlib v3.3.2, https://matplotlib.org/</dc:title>\n     </cc:Agent>\n    </dc:creator>\n   </cc:Work>\n  </rdf:RDF>\n </metadata>\n <defs>\n  <style type=\"text/css\">*{stroke-linecap:butt;stroke-linejoin:round;}</style>\n </defs>\n <g id=\"figure_1\">\n  <g id=\"patch_1\">\n   <path d=\"M 0 248.518125 \nL 360.285 248.518125 \nL 360.285 0 \nL 0 0 \nz\n\" style=\"fill:none;\"/>\n  </g>\n  <g id=\"axes_1\">\n   <g id=\"patch_2\">\n    <path d=\"M 26.925 224.64 \nL 353.085 224.64 \nL 353.085 7.2 \nL 26.925 7.2 \nz\n\" style=\"fill:#ffffff;\"/>\n   </g>\n   <g clip-path=\"url(#pb2d988614f)\">\n    <image height=\"218\" id=\"imageaf269d2476\" transform=\"scale(1 -1)translate(0 -218)\" width=\"327\" x=\"26.925\" xlink:href=\"data:image/png;base64,\niVBORw0KGgoAAAANSUhEUgAAAUcAAADaCAYAAAA1xoBCAAADu0lEQVR4nO3coYpUYRiA4VlnEUHQtQgWF/NGo8HkDRi8AZNgN5gN1kUw6RVYbNtFvAKjbDKJqFVc1ht4R5yfw5md4Xn6x/n4wstJ/95isTxf7KB7158Ozb04ujzxJqs9//x7aO7jr1cTb7KaO05jV+845w3ndmnTCwBcROIIEMQRIIgjQBBHgCCOAEEcAYI4AgRxBAjiCBDEESCII0AQR4Cwv+kF/sf+8mDtmZNH34e+deX146G5ESdP3gzN3Xh7MO0i/+CO09jVO47e8M/Zz6G5OflzBAjiCBDEESCII0AQR4AgjgBBHAGCOAIEcQQI4ggQxBEgiCNA2IqHJw6v3V975urDO0PfOhuaGjO64+G79e8xyh2nsat3HL3hlx/vh+bm5M8RIIgjQBBHgCCOAEEcAYI4AgRxBAjiCBDEESCII0AQR4AgjgBBHAHCVrzKM/KCx+nxzaFv3X4wNDbk9Pjb0NycL5q44zR29Y7b8LrOKH+OAEEcAYI4AgRxBAjiCBDEESCII0AQR4AgjgBBHAGCOAIEcQQIW/HwxIi7Hz4NzT07ujXxJqu9/Dq245zccRruuH38OQIEcQQI4ggQxBEgiCNAEEeAII4AQRwBgjgCBHEECOIIEMQRIIgjQNhbLJbnm14C4KLx5wgQxBEgiCNAEEeAII4AQRwBgjgCBHEECOIIEMQRIIgjQBBHgCCOAEEcAYI4AgRxBAjiCBDEESCII0AQR4AgjgBBHAGCOAIEcQQI4ggQxBEgiCNAEEeAII4AQRwBgjgCBHEECOIIEMQRIIgjQBBHgCCOAEEcAYI4AgRxBAjiCBDEESCII0AQR4AgjgBBHAGCOAIEcQQI4ggQxBEgiCNAEEeAII4AQRwBgjgCBHEECOIIEMQRIIgjQBBHgCCOAEEcAYI4AgRxBAjiCBDEESCII0AQR4AgjgBBHAGCOAIEcQQI4ggQxBEgiCNAEEeAII4AQRwBgjgCBHEECOIIEMQRIIgjQBBHgCCOAEEcAYI4AgRxBAjiCBDEESCII0AQR4AgjgBBHAGCOAIEcQQI4ggQxBEgiCNAEEeAII4AQRwBgjgCBHEECOIIEMQRIIgjQBBHgCCOAEEcAYI4AgRxBAjiCBDEESCII0AQR4AgjgBBHAGCOAIEcQQI4ggQxBEgiCNAEEeAII4AQRwBgjgCBHEECOIIEMQRIIgjQBBHgCCOAEEcAYI4AgRxBAjiCBDEESCII0AQR4AgjgBBHAGCOAIEcQQI4ggQxBEgiCNAEEeAII4A4S+qeVnshZLzJwAAAABJRU5ErkJggg==\" y=\"-6.64\"/>\n   </g>\n   <g id=\"matplotlib.axis_1\">\n    <g id=\"xtick_1\">\n     <g id=\"line2d_1\">\n      <defs>\n       <path d=\"M 0 0 \nL 0 3.5 \n\" id=\"maa1be85e49\" style=\"stroke:#000000;stroke-width:0.8;\"/>\n      </defs>\n      <g>\n       <use style=\"stroke:#000000;stroke-width:0.8;\" x=\"33.72\" xlink:href=\"#maa1be85e49\" y=\"224.64\"/>\n      </g>\n     </g>\n     <g id=\"text_1\">\n      <!-- 0 -->\n      <g transform=\"translate(30.53875 239.238437)scale(0.1 -0.1)\">\n       <defs>\n        <path d=\"M 31.78125 66.40625 \nQ 24.171875 66.40625 20.328125 58.90625 \nQ 16.5 51.421875 16.5 36.375 \nQ 16.5 21.390625 20.328125 13.890625 \nQ 24.171875 6.390625 31.78125 6.390625 \nQ 39.453125 6.390625 43.28125 13.890625 \nQ 47.125 21.390625 47.125 36.375 \nQ 47.125 51.421875 43.28125 58.90625 \nQ 39.453125 66.40625 31.78125 66.40625 \nz\nM 31.78125 74.21875 \nQ 44.046875 74.21875 50.515625 64.515625 \nQ 56.984375 54.828125 56.984375 36.375 \nQ 56.984375 17.96875 50.515625 8.265625 \nQ 44.046875 -1.421875 31.78125 -1.421875 \nQ 19.53125 -1.421875 13.0625 8.265625 \nQ 6.59375 17.96875 6.59375 36.375 \nQ 6.59375 54.828125 13.0625 64.515625 \nQ 19.53125 74.21875 31.78125 74.21875 \nz\n\" id=\"DejaVuSans-48\"/>\n       </defs>\n       <use xlink:href=\"#DejaVuSans-48\"/>\n      </g>\n     </g>\n    </g>\n    <g id=\"xtick_2\">\n     <g id=\"line2d_2\">\n      <g>\n       <use style=\"stroke:#000000;stroke-width:0.8;\" x=\"101.67\" xlink:href=\"#maa1be85e49\" y=\"224.64\"/>\n      </g>\n     </g>\n     <g id=\"text_2\">\n      <!-- 5 -->\n      <g transform=\"translate(98.48875 239.238437)scale(0.1 -0.1)\">\n       <defs>\n        <path d=\"M 10.796875 72.90625 \nL 49.515625 72.90625 \nL 49.515625 64.59375 \nL 19.828125 64.59375 \nL 19.828125 46.734375 \nQ 21.96875 47.46875 24.109375 47.828125 \nQ 26.265625 48.1875 28.421875 48.1875 \nQ 40.625 48.1875 47.75 41.5 \nQ 54.890625 34.8125 54.890625 23.390625 \nQ 54.890625 11.625 47.5625 5.09375 \nQ 40.234375 -1.421875 26.90625 -1.421875 \nQ 22.3125 -1.421875 17.546875 -0.640625 \nQ 12.796875 0.140625 7.71875 1.703125 \nL 7.71875 11.625 \nQ 12.109375 9.234375 16.796875 8.0625 \nQ 21.484375 6.890625 26.703125 6.890625 \nQ 35.15625 6.890625 40.078125 11.328125 \nQ 45.015625 15.765625 45.015625 23.390625 \nQ 45.015625 31 40.078125 35.4375 \nQ 35.15625 39.890625 26.703125 39.890625 \nQ 22.75 39.890625 18.8125 39.015625 \nQ 14.890625 38.140625 10.796875 36.28125 \nz\n\" id=\"DejaVuSans-53\"/>\n       </defs>\n       <use xlink:href=\"#DejaVuSans-53\"/>\n      </g>\n     </g>\n    </g>\n    <g id=\"xtick_3\">\n     <g id=\"line2d_3\">\n      <g>\n       <use style=\"stroke:#000000;stroke-width:0.8;\" x=\"169.62\" xlink:href=\"#maa1be85e49\" y=\"224.64\"/>\n      </g>\n     </g>\n     <g id=\"text_3\">\n      <!-- 10 -->\n      <g transform=\"translate(163.2575 239.238437)scale(0.1 -0.1)\">\n       <defs>\n        <path d=\"M 12.40625 8.296875 \nL 28.515625 8.296875 \nL 28.515625 63.921875 \nL 10.984375 60.40625 \nL 10.984375 69.390625 \nL 28.421875 72.90625 \nL 38.28125 72.90625 \nL 38.28125 8.296875 \nL 54.390625 8.296875 \nL 54.390625 0 \nL 12.40625 0 \nz\n\" id=\"DejaVuSans-49\"/>\n       </defs>\n       <use xlink:href=\"#DejaVuSans-49\"/>\n       <use x=\"63.623047\" xlink:href=\"#DejaVuSans-48\"/>\n      </g>\n     </g>\n    </g>\n    <g id=\"xtick_4\">\n     <g id=\"line2d_4\">\n      <g>\n       <use style=\"stroke:#000000;stroke-width:0.8;\" x=\"237.57\" xlink:href=\"#maa1be85e49\" y=\"224.64\"/>\n      </g>\n     </g>\n     <g id=\"text_4\">\n      <!-- 15 -->\n      <g transform=\"translate(231.2075 239.238437)scale(0.1 -0.1)\">\n       <use xlink:href=\"#DejaVuSans-49\"/>\n       <use x=\"63.623047\" xlink:href=\"#DejaVuSans-53\"/>\n      </g>\n     </g>\n    </g>\n    <g id=\"xtick_5\">\n     <g id=\"line2d_5\">\n      <g>\n       <use style=\"stroke:#000000;stroke-width:0.8;\" x=\"305.52\" xlink:href=\"#maa1be85e49\" y=\"224.64\"/>\n      </g>\n     </g>\n     <g id=\"text_5\">\n      <!-- 20 -->\n      <g transform=\"translate(299.1575 239.238437)scale(0.1 -0.1)\">\n       <defs>\n        <path d=\"M 19.1875 8.296875 \nL 53.609375 8.296875 \nL 53.609375 0 \nL 7.328125 0 \nL 7.328125 8.296875 \nQ 12.9375 14.109375 22.625 23.890625 \nQ 32.328125 33.6875 34.8125 36.53125 \nQ 39.546875 41.84375 41.421875 45.53125 \nQ 43.3125 49.21875 43.3125 52.78125 \nQ 43.3125 58.59375 39.234375 62.25 \nQ 35.15625 65.921875 28.609375 65.921875 \nQ 23.96875 65.921875 18.8125 64.3125 \nQ 13.671875 62.703125 7.8125 59.421875 \nL 7.8125 69.390625 \nQ 13.765625 71.78125 18.9375 73 \nQ 24.125 74.21875 28.421875 74.21875 \nQ 39.75 74.21875 46.484375 68.546875 \nQ 53.21875 62.890625 53.21875 53.421875 \nQ 53.21875 48.921875 51.53125 44.890625 \nQ 49.859375 40.875 45.40625 35.40625 \nQ 44.1875 33.984375 37.640625 27.21875 \nQ 31.109375 20.453125 19.1875 8.296875 \nz\n\" id=\"DejaVuSans-50\"/>\n       </defs>\n       <use xlink:href=\"#DejaVuSans-50\"/>\n       <use x=\"63.623047\" xlink:href=\"#DejaVuSans-48\"/>\n      </g>\n     </g>\n    </g>\n   </g>\n   <g id=\"matplotlib.axis_2\">\n    <g id=\"ytick_1\">\n     <g id=\"line2d_6\">\n      <defs>\n       <path d=\"M 0 0 \nL -3.5 0 \n\" id=\"m6955feb90a\" style=\"stroke:#000000;stroke-width:0.8;\"/>\n      </defs>\n      <g>\n       <use style=\"stroke:#000000;stroke-width:0.8;\" x=\"26.925\" xlink:href=\"#m6955feb90a\" y=\"217.845\"/>\n      </g>\n     </g>\n     <g id=\"text_6\">\n      <!-- 0 -->\n      <g transform=\"translate(13.5625 221.644219)scale(0.1 -0.1)\">\n       <use xlink:href=\"#DejaVuSans-48\"/>\n      </g>\n     </g>\n    </g>\n    <g id=\"ytick_2\">\n     <g id=\"line2d_7\">\n      <g>\n       <use style=\"stroke:#000000;stroke-width:0.8;\" x=\"26.925\" xlink:href=\"#m6955feb90a\" y=\"190.665\"/>\n      </g>\n     </g>\n     <g id=\"text_7\">\n      <!-- 2 -->\n      <g transform=\"translate(13.5625 194.464219)scale(0.1 -0.1)\">\n       <use xlink:href=\"#DejaVuSans-50\"/>\n      </g>\n     </g>\n    </g>\n    <g id=\"ytick_3\">\n     <g id=\"line2d_8\">\n      <g>\n       <use style=\"stroke:#000000;stroke-width:0.8;\" x=\"26.925\" xlink:href=\"#m6955feb90a\" y=\"163.485\"/>\n      </g>\n     </g>\n     <g id=\"text_8\">\n      <!-- 4 -->\n      <g transform=\"translate(13.5625 167.284219)scale(0.1 -0.1)\">\n       <defs>\n        <path d=\"M 37.796875 64.3125 \nL 12.890625 25.390625 \nL 37.796875 25.390625 \nz\nM 35.203125 72.90625 \nL 47.609375 72.90625 \nL 47.609375 25.390625 \nL 58.015625 25.390625 \nL 58.015625 17.1875 \nL 47.609375 17.1875 \nL 47.609375 0 \nL 37.796875 0 \nL 37.796875 17.1875 \nL 4.890625 17.1875 \nL 4.890625 26.703125 \nz\n\" id=\"DejaVuSans-52\"/>\n       </defs>\n       <use xlink:href=\"#DejaVuSans-52\"/>\n      </g>\n     </g>\n    </g>\n    <g id=\"ytick_4\">\n     <g id=\"line2d_9\">\n      <g>\n       <use style=\"stroke:#000000;stroke-width:0.8;\" x=\"26.925\" xlink:href=\"#m6955feb90a\" y=\"136.305\"/>\n      </g>\n     </g>\n     <g id=\"text_9\">\n      <!-- 6 -->\n      <g transform=\"translate(13.5625 140.104219)scale(0.1 -0.1)\">\n       <defs>\n        <path d=\"M 33.015625 40.375 \nQ 26.375 40.375 22.484375 35.828125 \nQ 18.609375 31.296875 18.609375 23.390625 \nQ 18.609375 15.53125 22.484375 10.953125 \nQ 26.375 6.390625 33.015625 6.390625 \nQ 39.65625 6.390625 43.53125 10.953125 \nQ 47.40625 15.53125 47.40625 23.390625 \nQ 47.40625 31.296875 43.53125 35.828125 \nQ 39.65625 40.375 33.015625 40.375 \nz\nM 52.59375 71.296875 \nL 52.59375 62.3125 \nQ 48.875 64.0625 45.09375 64.984375 \nQ 41.3125 65.921875 37.59375 65.921875 \nQ 27.828125 65.921875 22.671875 59.328125 \nQ 17.53125 52.734375 16.796875 39.40625 \nQ 19.671875 43.65625 24.015625 45.921875 \nQ 28.375 48.1875 33.59375 48.1875 \nQ 44.578125 48.1875 50.953125 41.515625 \nQ 57.328125 34.859375 57.328125 23.390625 \nQ 57.328125 12.15625 50.6875 5.359375 \nQ 44.046875 -1.421875 33.015625 -1.421875 \nQ 20.359375 -1.421875 13.671875 8.265625 \nQ 6.984375 17.96875 6.984375 36.375 \nQ 6.984375 53.65625 15.1875 63.9375 \nQ 23.390625 74.21875 37.203125 74.21875 \nQ 40.921875 74.21875 44.703125 73.484375 \nQ 48.484375 72.75 52.59375 71.296875 \nz\n\" id=\"DejaVuSans-54\"/>\n       </defs>\n       <use xlink:href=\"#DejaVuSans-54\"/>\n      </g>\n     </g>\n    </g>\n    <g id=\"ytick_5\">\n     <g id=\"line2d_10\">\n      <g>\n       <use style=\"stroke:#000000;stroke-width:0.8;\" x=\"26.925\" xlink:href=\"#m6955feb90a\" y=\"109.125\"/>\n      </g>\n     </g>\n     <g id=\"text_10\">\n      <!-- 8 -->\n      <g transform=\"translate(13.5625 112.924219)scale(0.1 -0.1)\">\n       <defs>\n        <path d=\"M 31.78125 34.625 \nQ 24.75 34.625 20.71875 30.859375 \nQ 16.703125 27.09375 16.703125 20.515625 \nQ 16.703125 13.921875 20.71875 10.15625 \nQ 24.75 6.390625 31.78125 6.390625 \nQ 38.8125 6.390625 42.859375 10.171875 \nQ 46.921875 13.96875 46.921875 20.515625 \nQ 46.921875 27.09375 42.890625 30.859375 \nQ 38.875 34.625 31.78125 34.625 \nz\nM 21.921875 38.8125 \nQ 15.578125 40.375 12.03125 44.71875 \nQ 8.5 49.078125 8.5 55.328125 \nQ 8.5 64.0625 14.71875 69.140625 \nQ 20.953125 74.21875 31.78125 74.21875 \nQ 42.671875 74.21875 48.875 69.140625 \nQ 55.078125 64.0625 55.078125 55.328125 \nQ 55.078125 49.078125 51.53125 44.71875 \nQ 48 40.375 41.703125 38.8125 \nQ 48.828125 37.15625 52.796875 32.3125 \nQ 56.78125 27.484375 56.78125 20.515625 \nQ 56.78125 9.90625 50.3125 4.234375 \nQ 43.84375 -1.421875 31.78125 -1.421875 \nQ 19.734375 -1.421875 13.25 4.234375 \nQ 6.78125 9.90625 6.78125 20.515625 \nQ 6.78125 27.484375 10.78125 32.3125 \nQ 14.796875 37.15625 21.921875 38.8125 \nz\nM 18.3125 54.390625 \nQ 18.3125 48.734375 21.84375 45.5625 \nQ 25.390625 42.390625 31.78125 42.390625 \nQ 38.140625 42.390625 41.71875 45.5625 \nQ 45.3125 48.734375 45.3125 54.390625 \nQ 45.3125 60.0625 41.71875 63.234375 \nQ 38.140625 66.40625 31.78125 66.40625 \nQ 25.390625 66.40625 21.84375 63.234375 \nQ 18.3125 60.0625 18.3125 54.390625 \nz\n\" id=\"DejaVuSans-56\"/>\n       </defs>\n       <use xlink:href=\"#DejaVuSans-56\"/>\n      </g>\n     </g>\n    </g>\n    <g id=\"ytick_6\">\n     <g id=\"line2d_11\">\n      <g>\n       <use style=\"stroke:#000000;stroke-width:0.8;\" x=\"26.925\" xlink:href=\"#m6955feb90a\" y=\"81.945\"/>\n      </g>\n     </g>\n     <g id=\"text_11\">\n      <!-- 10 -->\n      <g transform=\"translate(7.2 85.744219)scale(0.1 -0.1)\">\n       <use xlink:href=\"#DejaVuSans-49\"/>\n       <use x=\"63.623047\" xlink:href=\"#DejaVuSans-48\"/>\n      </g>\n     </g>\n    </g>\n    <g id=\"ytick_7\">\n     <g id=\"line2d_12\">\n      <g>\n       <use style=\"stroke:#000000;stroke-width:0.8;\" x=\"26.925\" xlink:href=\"#m6955feb90a\" y=\"54.765\"/>\n      </g>\n     </g>\n     <g id=\"text_12\">\n      <!-- 12 -->\n      <g transform=\"translate(7.2 58.564219)scale(0.1 -0.1)\">\n       <use xlink:href=\"#DejaVuSans-49\"/>\n       <use x=\"63.623047\" xlink:href=\"#DejaVuSans-50\"/>\n      </g>\n     </g>\n    </g>\n    <g id=\"ytick_8\">\n     <g id=\"line2d_13\">\n      <g>\n       <use style=\"stroke:#000000;stroke-width:0.8;\" x=\"26.925\" xlink:href=\"#m6955feb90a\" y=\"27.585\"/>\n      </g>\n     </g>\n     <g id=\"text_13\">\n      <!-- 14 -->\n      <g transform=\"translate(7.2 31.384219)scale(0.1 -0.1)\">\n       <use xlink:href=\"#DejaVuSans-49\"/>\n       <use x=\"63.623047\" xlink:href=\"#DejaVuSans-52\"/>\n      </g>\n     </g>\n    </g>\n   </g>\n   <g id=\"patch_3\">\n    <path d=\"M 26.925 224.64 \nL 26.925 7.2 \n\" style=\"fill:none;stroke:#000000;stroke-linecap:square;stroke-linejoin:miter;stroke-width:0.8;\"/>\n   </g>\n   <g id=\"patch_4\">\n    <path d=\"M 353.085 224.64 \nL 353.085 7.2 \n\" style=\"fill:none;stroke:#000000;stroke-linecap:square;stroke-linejoin:miter;stroke-width:0.8;\"/>\n   </g>\n   <g id=\"patch_5\">\n    <path d=\"M 26.925 224.64 \nL 353.085 224.64 \n\" style=\"fill:none;stroke:#000000;stroke-linecap:square;stroke-linejoin:miter;stroke-width:0.8;\"/>\n   </g>\n   <g id=\"patch_6\">\n    <path d=\"M 26.925 7.2 \nL 353.085 7.2 \n\" style=\"fill:none;stroke:#000000;stroke-linecap:square;stroke-linejoin:miter;stroke-width:0.8;\"/>\n   </g>\n  </g>\n </g>\n <defs>\n  <clipPath id=\"pb2d988614f\">\n   <rect height=\"217.44\" width=\"326.16\" x=\"26.925\" y=\"7.2\"/>\n  </clipPath>\n </defs>\n</svg>\n",
      "image/png": "[encoded data removed]"
     },
     "metadata": {
      "needs_background": "light"
     }
    }
   ],
   "source": [
    "#Build graphs for the simulation\n",
    "for frame in range(50):\n",
    "  print('Building graph for frame %d' % frame)\n",
    "  world.step(dt=0.5)\n",
    "  states.append(fluid.state)\n",
    "\n",
    "\n",
    "print('Computing frames...')\n",
    "pylab.imshow(np.concatenate(session.run(fluid.density).data[...,0], axis=1), origin='lower', cmap='magma')"
   ]
  },
  {
   "cell_type": "code",
   "execution_count": 7,
   "metadata": {},
   "outputs": [
    {
     "output_type": "stream",
     "name": "stdout",
     "text": [
      "WARNING:tensorflow:From /home/intergalactic-mammoth/anaconda3/envs/tf/lib/python3.7/site-packages/tensorflow/python/ops/math_grad.py:1205: add_dispatch_support.<locals>.wrapper (from tensorflow.python.ops.array_ops) is deprecated and will be removed in a future version.\n",
      "Instructions for updating:\n",
      "Use tf.where in 2.0, which has the same broadcast rule as np.where\n",
      "Initial loss: 144044.265625\n"
     ]
    }
   ],
   "source": [
    "#Define the target (a png image converted to numpy)\n",
    "import imageio\n",
    "\n",
    "target = imageio.imread('tum_08.png')\n",
    "target = target[:,:,0]\n",
    "target = np.flip(target)\n",
    "target = target[:,::-1]\n",
    "target = np.expand_dims(target, axis=0)\n",
    "target = np.expand_dims(target, axis=3)\n",
    "\n",
    "val1 = np.max(fluid.density.data[0:,...])\n",
    "val2 = np.max(target)\n",
    "target = val1/val2 * target #normalize the target values to have similar magnitude to the simulation densities\n",
    "\n",
    "#Define loss, optimizer and start the session\n",
    "loss = math.l2_loss(fluid.density.data[0:,...] - target)\n",
    "optim = tf.train.AdamOptimizer(learning_rate=0.25).minimize(loss)\n",
    "session.initialize_variables()\n",
    "print('Initial loss: %f' % session.run(loss))"
   ]
  },
  {
   "cell_type": "code",
   "execution_count": 8,
   "metadata": {
    "tags": []
   },
   "outputs": [
    {
     "output_type": "stream",
     "name": "stdout",
     "text": [
      "Running optimization step 0. The first step sets up the adjoint graph.\n",
      "Loss: 144044.265625\n",
      "Running optimization step 1. \n",
      "Loss: 66011.921875\n",
      "Running optimization step 2. \n",
      "Loss: 51096.609375\n",
      "Running optimization step 3. \n",
      "Loss: 45118.156250\n",
      "Running optimization step 4. \n",
      "Loss: 40770.835938\n",
      "Running optimization step 5. \n",
      "Loss: 36636.226562\n",
      "Running optimization step 6. \n",
      "Loss: 32969.257812\n",
      "Running optimization step 7. \n",
      "Loss: 30141.792969\n",
      "Running optimization step 8. \n",
      "Loss: 28204.970703\n",
      "Running optimization step 9. \n",
      "Loss: 26868.474609\n",
      "Running optimization step 10. \n",
      "Loss: 25840.105469\n",
      "Running optimization step 11. \n",
      "Loss: 24976.445312\n",
      "Running optimization step 12. \n",
      "Loss: 24238.058594\n",
      "Running optimization step 13. \n",
      "Loss: 23606.488281\n",
      "Running optimization step 14. \n",
      "Loss: 23049.300781\n",
      "Running optimization step 15. \n",
      "Loss: 22531.628906\n",
      "Running optimization step 16. \n",
      "Loss: 22029.394531\n",
      "Running optimization step 17. \n",
      "Loss: 21544.777344\n",
      "Running optimization step 18. \n",
      "Loss: 21086.677734\n",
      "Running optimization step 19. \n",
      "Loss: 20679.378906\n",
      "Running optimization step 20. \n",
      "Loss: 20342.205078\n",
      "Running optimization step 21. \n",
      "Loss: 20065.722656\n",
      "Running optimization step 22. \n",
      "Loss: 19857.076172\n",
      "Running optimization step 23. \n",
      "Loss: 19703.488281\n",
      "Running optimization step 24. \n",
      "Loss: 19571.074219\n",
      "Running optimization step 25. \n",
      "Loss: 19433.578125\n",
      "Running optimization step 26. \n",
      "Loss: 19286.203125\n",
      "Running optimization step 27. \n",
      "Loss: 19133.205078\n",
      "Running optimization step 28. \n",
      "Loss: 18982.306641\n",
      "Running optimization step 29. \n",
      "Loss: 18847.066406\n",
      "Running optimization step 30. \n",
      "Loss: 18736.000000\n",
      "Running optimization step 31. \n",
      "Loss: 18652.804688\n",
      "Running optimization step 32. \n",
      "Loss: 18588.503906\n",
      "Running optimization step 33. \n",
      "Loss: 18527.273438\n",
      "Running optimization step 34. \n",
      "Loss: 18461.589844\n",
      "Running optimization step 35. \n",
      "Loss: 18388.429688\n",
      "Running optimization step 36. \n",
      "Loss: 18310.480469\n",
      "Running optimization step 37. \n",
      "Loss: 18237.910156\n",
      "Running optimization step 38. \n",
      "Loss: 18174.351562\n",
      "Running optimization step 39. \n",
      "Loss: 18119.310547\n",
      "Running optimization step 40. \n",
      "Loss: 18068.843750\n",
      "Running optimization step 41. \n",
      "Loss: 18019.316406\n",
      "Running optimization step 42. \n",
      "Loss: 17975.396484\n",
      "Running optimization step 43. \n",
      "Loss: 17941.203125\n",
      "Running optimization step 44. \n",
      "Loss: 17913.625000\n",
      "Running optimization step 45. \n",
      "Loss: 17884.597656\n",
      "Running optimization step 46. \n",
      "Loss: 17847.828125\n",
      "Running optimization step 47. \n",
      "Loss: 17806.962891\n",
      "Running optimization step 48. \n",
      "Loss: 17770.849609\n",
      "Running optimization step 49. \n",
      "Loss: 17739.027344\n",
      "Running optimization step 50. \n",
      "Loss: 17709.589844\n",
      "Running optimization step 51. \n",
      "Loss: 17680.882812\n",
      "Running optimization step 52. \n",
      "Loss: 17652.207031\n",
      "Running optimization step 53. \n",
      "Loss: 17623.847656\n",
      "Running optimization step 54. \n",
      "Loss: 17595.832031\n",
      "Running optimization step 55. \n",
      "Loss: 17567.175781\n",
      "Running optimization step 56. \n",
      "Loss: 17537.324219\n",
      "Running optimization step 57. \n",
      "Loss: 17507.921875\n",
      "Running optimization step 58. \n",
      "Loss: 17479.222656\n",
      "Running optimization step 59. \n",
      "Loss: 17450.107422\n",
      "Running optimization step 60. \n",
      "Loss: 17424.398438\n",
      "Running optimization step 61. \n",
      "Loss: 17401.248047\n",
      "Running optimization step 62. \n",
      "Loss: 17378.277344\n",
      "Running optimization step 63. \n",
      "Loss: 17355.914062\n",
      "Running optimization step 64. \n",
      "Loss: 17332.828125\n",
      "Running optimization step 65. \n",
      "Loss: 17308.517578\n",
      "Running optimization step 66. \n",
      "Loss: 17282.900391\n",
      "Running optimization step 67. \n",
      "Loss: 17257.845703\n",
      "Running optimization step 68. \n",
      "Loss: 17233.593750\n",
      "Running optimization step 69. \n",
      "Loss: 17211.833984\n",
      "Running optimization step 70. \n",
      "Loss: 17190.583984\n",
      "Running optimization step 71. \n",
      "Loss: 17171.115234\n",
      "Running optimization step 72. \n",
      "Loss: 17151.960938\n",
      "Running optimization step 73. \n",
      "Loss: 17133.609375\n",
      "Running optimization step 74. \n",
      "Loss: 17115.246094\n",
      "Running optimization step 75. \n",
      "Loss: 17096.652344\n",
      "Running optimization step 76. \n",
      "Loss: 17078.687500\n",
      "Running optimization step 77. \n",
      "Loss: 17061.099609\n",
      "Running optimization step 78. \n",
      "Loss: 17046.091797\n",
      "Running optimization step 79. \n",
      "Loss: 17030.570312\n",
      "Running optimization step 80. \n",
      "Loss: 17014.060547\n",
      "Running optimization step 81. \n",
      "Loss: 16998.875000\n",
      "Running optimization step 82. \n",
      "Loss: 16985.171875\n",
      "Running optimization step 83. \n",
      "Loss: 16972.119141\n",
      "Running optimization step 84. \n",
      "Loss: 16957.775391\n",
      "Running optimization step 85. \n",
      "Loss: 16943.390625\n",
      "Running optimization step 86. \n",
      "Loss: 16930.218750\n",
      "Running optimization step 87. \n",
      "Loss: 16916.812500\n",
      "Running optimization step 88. \n",
      "Loss: 16902.958984\n",
      "Running optimization step 89. \n",
      "Loss: 16889.222656\n",
      "Running optimization step 90. \n",
      "Loss: 16876.548828\n",
      "Running optimization step 91. \n",
      "Loss: 16863.898438\n",
      "Running optimization step 92. \n",
      "Loss: 16850.693359\n",
      "Running optimization step 93. \n",
      "Loss: 16837.269531\n",
      "Running optimization step 94. \n",
      "Loss: 16824.410156\n",
      "Running optimization step 95. \n",
      "Loss: 16811.509766\n",
      "Running optimization step 96. \n",
      "Loss: 16798.009766\n",
      "Running optimization step 97. \n",
      "Loss: 16784.708984\n",
      "Running optimization step 98. \n",
      "Loss: 16772.453125\n",
      "Running optimization step 99. \n",
      "Loss: 16760.460938\n"
     ]
    }
   ],
   "source": [
    "#Run optimization\n",
    "\n",
    "for optim_step in range(100):\n",
    "  print('Running optimization step %d. %s' % (optim_step, '' if optim_step else 'The first step sets up the adjoint graph.'))\n",
    "  _, loss_value = session.run([optim, loss])\n",
    "  print('Loss: %f' % loss_value)"
   ]
  },
  {
   "cell_type": "code",
   "execution_count": 9,
   "metadata": {},
   "outputs": [
    {
     "output_type": "execute_result",
     "data": {
      "text/plain": [
       "<matplotlib.image.AxesImage at 0x7f1a9289aad0>"
      ]
     },
     "metadata": {},
     "execution_count": 9
    },
    {
     "output_type": "display_data",
     "data": {
      "text/plain": "<Figure size 432x288 with 1 Axes>",
      "image/svg+xml": "<?xml version=\"1.0\" encoding=\"utf-8\" standalone=\"no\"?>\n<!DOCTYPE svg PUBLIC \"-//W3C//DTD SVG 1.1//EN\"\n  \"http://www.w3.org/Graphics/SVG/1.1/DTD/svg11.dtd\">\n<!-- Created with matplotlib (https://matplotlib.org/) -->\n<svg height=\"248.518125pt\" version=\"1.1\" viewBox=\"0 0 360.285 248.518125\" width=\"360.285pt\" xmlns=\"http://www.w3.org/2000/svg\" xmlns:xlink=\"http://www.w3.org/1999/xlink\">\n <metadata>\n  <rdf:RDF xmlns:cc=\"http://creativecommons.org/ns#\" xmlns:dc=\"http://purl.org/dc/elements/1.1/\" xmlns:rdf=\"http://www.w3.org/1999/02/22-rdf-syntax-ns#\">\n   <cc:Work>\n    <dc:type rdf:resource=\"http://purl.org/dc/dcmitype/StillImage\"/>\n    <dc:date>2021-03-23T10:37:36.812980</dc:date>\n    <dc:format>image/svg+xml</dc:format>\n    <dc:creator>\n     <cc:Agent>\n      <dc:title>Matplotlib v3.3.2, https://matplotlib.org/</dc:title>\n     </cc:Agent>\n    </dc:creator>\n   </cc:Work>\n  </rdf:RDF>\n </metadata>\n <defs>\n  <style type=\"text/css\">*{stroke-linecap:butt;stroke-linejoin:round;}</style>\n </defs>\n <g id=\"figure_1\">\n  <g id=\"patch_1\">\n   <path d=\"M 0 248.518125 \nL 360.285 248.518125 \nL 360.285 0 \nL 0 0 \nz\n\" style=\"fill:none;\"/>\n  </g>\n  <g id=\"axes_1\">\n   <g id=\"patch_2\">\n    <path d=\"M 26.925 224.64 \nL 353.085 224.64 \nL 353.085 7.2 \nL 26.925 7.2 \nz\n\" style=\"fill:#ffffff;\"/>\n   </g>\n   <g clip-path=\"url(#p50d0414560)\">\n    <image height=\"218\" id=\"image965751bdc6\" transform=\"scale(1 -1)translate(0 -218)\" width=\"327\" x=\"26.925\" xlink:href=\"data:image/png;base64,\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\" y=\"-6.64\"/>\n   </g>\n   <g id=\"matplotlib.axis_1\">\n    <g id=\"xtick_1\">\n     <g id=\"line2d_1\">\n      <defs>\n       <path d=\"M 0 0 \nL 0 3.5 \n\" id=\"m6008b96484\" style=\"stroke:#000000;stroke-width:0.8;\"/>\n      </defs>\n      <g>\n       <use style=\"stroke:#000000;stroke-width:0.8;\" x=\"33.72\" xlink:href=\"#m6008b96484\" y=\"224.64\"/>\n      </g>\n     </g>\n     <g id=\"text_1\">\n      <!-- 0 -->\n      <g transform=\"translate(30.53875 239.238437)scale(0.1 -0.1)\">\n       <defs>\n        <path d=\"M 31.78125 66.40625 \nQ 24.171875 66.40625 20.328125 58.90625 \nQ 16.5 51.421875 16.5 36.375 \nQ 16.5 21.390625 20.328125 13.890625 \nQ 24.171875 6.390625 31.78125 6.390625 \nQ 39.453125 6.390625 43.28125 13.890625 \nQ 47.125 21.390625 47.125 36.375 \nQ 47.125 51.421875 43.28125 58.90625 \nQ 39.453125 66.40625 31.78125 66.40625 \nz\nM 31.78125 74.21875 \nQ 44.046875 74.21875 50.515625 64.515625 \nQ 56.984375 54.828125 56.984375 36.375 \nQ 56.984375 17.96875 50.515625 8.265625 \nQ 44.046875 -1.421875 31.78125 -1.421875 \nQ 19.53125 -1.421875 13.0625 8.265625 \nQ 6.59375 17.96875 6.59375 36.375 \nQ 6.59375 54.828125 13.0625 64.515625 \nQ 19.53125 74.21875 31.78125 74.21875 \nz\n\" id=\"DejaVuSans-48\"/>\n       </defs>\n       <use xlink:href=\"#DejaVuSans-48\"/>\n      </g>\n     </g>\n    </g>\n    <g id=\"xtick_2\">\n     <g id=\"line2d_2\">\n      <g>\n       <use style=\"stroke:#000000;stroke-width:0.8;\" x=\"101.67\" xlink:href=\"#m6008b96484\" y=\"224.64\"/>\n      </g>\n     </g>\n     <g id=\"text_2\">\n      <!-- 5 -->\n      <g transform=\"translate(98.48875 239.238437)scale(0.1 -0.1)\">\n       <defs>\n        <path d=\"M 10.796875 72.90625 \nL 49.515625 72.90625 \nL 49.515625 64.59375 \nL 19.828125 64.59375 \nL 19.828125 46.734375 \nQ 21.96875 47.46875 24.109375 47.828125 \nQ 26.265625 48.1875 28.421875 48.1875 \nQ 40.625 48.1875 47.75 41.5 \nQ 54.890625 34.8125 54.890625 23.390625 \nQ 54.890625 11.625 47.5625 5.09375 \nQ 40.234375 -1.421875 26.90625 -1.421875 \nQ 22.3125 -1.421875 17.546875 -0.640625 \nQ 12.796875 0.140625 7.71875 1.703125 \nL 7.71875 11.625 \nQ 12.109375 9.234375 16.796875 8.0625 \nQ 21.484375 6.890625 26.703125 6.890625 \nQ 35.15625 6.890625 40.078125 11.328125 \nQ 45.015625 15.765625 45.015625 23.390625 \nQ 45.015625 31 40.078125 35.4375 \nQ 35.15625 39.890625 26.703125 39.890625 \nQ 22.75 39.890625 18.8125 39.015625 \nQ 14.890625 38.140625 10.796875 36.28125 \nz\n\" id=\"DejaVuSans-53\"/>\n       </defs>\n       <use xlink:href=\"#DejaVuSans-53\"/>\n      </g>\n     </g>\n    </g>\n    <g id=\"xtick_3\">\n     <g id=\"line2d_3\">\n      <g>\n       <use style=\"stroke:#000000;stroke-width:0.8;\" x=\"169.62\" xlink:href=\"#m6008b96484\" y=\"224.64\"/>\n      </g>\n     </g>\n     <g id=\"text_3\">\n      <!-- 10 -->\n      <g transform=\"translate(163.2575 239.238437)scale(0.1 -0.1)\">\n       <defs>\n        <path d=\"M 12.40625 8.296875 \nL 28.515625 8.296875 \nL 28.515625 63.921875 \nL 10.984375 60.40625 \nL 10.984375 69.390625 \nL 28.421875 72.90625 \nL 38.28125 72.90625 \nL 38.28125 8.296875 \nL 54.390625 8.296875 \nL 54.390625 0 \nL 12.40625 0 \nz\n\" id=\"DejaVuSans-49\"/>\n       </defs>\n       <use xlink:href=\"#DejaVuSans-49\"/>\n       <use x=\"63.623047\" xlink:href=\"#DejaVuSans-48\"/>\n      </g>\n     </g>\n    </g>\n    <g id=\"xtick_4\">\n     <g id=\"line2d_4\">\n      <g>\n       <use style=\"stroke:#000000;stroke-width:0.8;\" x=\"237.57\" xlink:href=\"#m6008b96484\" y=\"224.64\"/>\n      </g>\n     </g>\n     <g id=\"text_4\">\n      <!-- 15 -->\n      <g transform=\"translate(231.2075 239.238437)scale(0.1 -0.1)\">\n       <use xlink:href=\"#DejaVuSans-49\"/>\n       <use x=\"63.623047\" xlink:href=\"#DejaVuSans-53\"/>\n      </g>\n     </g>\n    </g>\n    <g id=\"xtick_5\">\n     <g id=\"line2d_5\">\n      <g>\n       <use style=\"stroke:#000000;stroke-width:0.8;\" x=\"305.52\" xlink:href=\"#m6008b96484\" y=\"224.64\"/>\n      </g>\n     </g>\n     <g id=\"text_5\">\n      <!-- 20 -->\n      <g transform=\"translate(299.1575 239.238437)scale(0.1 -0.1)\">\n       <defs>\n        <path d=\"M 19.1875 8.296875 \nL 53.609375 8.296875 \nL 53.609375 0 \nL 7.328125 0 \nL 7.328125 8.296875 \nQ 12.9375 14.109375 22.625 23.890625 \nQ 32.328125 33.6875 34.8125 36.53125 \nQ 39.546875 41.84375 41.421875 45.53125 \nQ 43.3125 49.21875 43.3125 52.78125 \nQ 43.3125 58.59375 39.234375 62.25 \nQ 35.15625 65.921875 28.609375 65.921875 \nQ 23.96875 65.921875 18.8125 64.3125 \nQ 13.671875 62.703125 7.8125 59.421875 \nL 7.8125 69.390625 \nQ 13.765625 71.78125 18.9375 73 \nQ 24.125 74.21875 28.421875 74.21875 \nQ 39.75 74.21875 46.484375 68.546875 \nQ 53.21875 62.890625 53.21875 53.421875 \nQ 53.21875 48.921875 51.53125 44.890625 \nQ 49.859375 40.875 45.40625 35.40625 \nQ 44.1875 33.984375 37.640625 27.21875 \nQ 31.109375 20.453125 19.1875 8.296875 \nz\n\" id=\"DejaVuSans-50\"/>\n       </defs>\n       <use xlink:href=\"#DejaVuSans-50\"/>\n       <use x=\"63.623047\" xlink:href=\"#DejaVuSans-48\"/>\n      </g>\n     </g>\n    </g>\n   </g>\n   <g id=\"matplotlib.axis_2\">\n    <g id=\"ytick_1\">\n     <g id=\"line2d_6\">\n      <defs>\n       <path d=\"M 0 0 \nL -3.5 0 \n\" id=\"m3e7117339b\" style=\"stroke:#000000;stroke-width:0.8;\"/>\n      </defs>\n      <g>\n       <use style=\"stroke:#000000;stroke-width:0.8;\" x=\"26.925\" xlink:href=\"#m3e7117339b\" y=\"217.845\"/>\n      </g>\n     </g>\n     <g id=\"text_6\">\n      <!-- 0 -->\n      <g transform=\"translate(13.5625 221.644219)scale(0.1 -0.1)\">\n       <use xlink:href=\"#DejaVuSans-48\"/>\n      </g>\n     </g>\n    </g>\n    <g id=\"ytick_2\">\n     <g id=\"line2d_7\">\n      <g>\n       <use style=\"stroke:#000000;stroke-width:0.8;\" x=\"26.925\" xlink:href=\"#m3e7117339b\" y=\"190.665\"/>\n      </g>\n     </g>\n     <g id=\"text_7\">\n      <!-- 2 -->\n      <g transform=\"translate(13.5625 194.464219)scale(0.1 -0.1)\">\n       <use xlink:href=\"#DejaVuSans-50\"/>\n      </g>\n     </g>\n    </g>\n    <g id=\"ytick_3\">\n     <g id=\"line2d_8\">\n      <g>\n       <use style=\"stroke:#000000;stroke-width:0.8;\" x=\"26.925\" xlink:href=\"#m3e7117339b\" y=\"163.485\"/>\n      </g>\n     </g>\n     <g id=\"text_8\">\n      <!-- 4 -->\n      <g transform=\"translate(13.5625 167.284219)scale(0.1 -0.1)\">\n       <defs>\n        <path d=\"M 37.796875 64.3125 \nL 12.890625 25.390625 \nL 37.796875 25.390625 \nz\nM 35.203125 72.90625 \nL 47.609375 72.90625 \nL 47.609375 25.390625 \nL 58.015625 25.390625 \nL 58.015625 17.1875 \nL 47.609375 17.1875 \nL 47.609375 0 \nL 37.796875 0 \nL 37.796875 17.1875 \nL 4.890625 17.1875 \nL 4.890625 26.703125 \nz\n\" id=\"DejaVuSans-52\"/>\n       </defs>\n       <use xlink:href=\"#DejaVuSans-52\"/>\n      </g>\n     </g>\n    </g>\n    <g id=\"ytick_4\">\n     <g id=\"line2d_9\">\n      <g>\n       <use style=\"stroke:#000000;stroke-width:0.8;\" x=\"26.925\" xlink:href=\"#m3e7117339b\" y=\"136.305\"/>\n      </g>\n     </g>\n     <g id=\"text_9\">\n      <!-- 6 -->\n      <g transform=\"translate(13.5625 140.104219)scale(0.1 -0.1)\">\n       <defs>\n        <path d=\"M 33.015625 40.375 \nQ 26.375 40.375 22.484375 35.828125 \nQ 18.609375 31.296875 18.609375 23.390625 \nQ 18.609375 15.53125 22.484375 10.953125 \nQ 26.375 6.390625 33.015625 6.390625 \nQ 39.65625 6.390625 43.53125 10.953125 \nQ 47.40625 15.53125 47.40625 23.390625 \nQ 47.40625 31.296875 43.53125 35.828125 \nQ 39.65625 40.375 33.015625 40.375 \nz\nM 52.59375 71.296875 \nL 52.59375 62.3125 \nQ 48.875 64.0625 45.09375 64.984375 \nQ 41.3125 65.921875 37.59375 65.921875 \nQ 27.828125 65.921875 22.671875 59.328125 \nQ 17.53125 52.734375 16.796875 39.40625 \nQ 19.671875 43.65625 24.015625 45.921875 \nQ 28.375 48.1875 33.59375 48.1875 \nQ 44.578125 48.1875 50.953125 41.515625 \nQ 57.328125 34.859375 57.328125 23.390625 \nQ 57.328125 12.15625 50.6875 5.359375 \nQ 44.046875 -1.421875 33.015625 -1.421875 \nQ 20.359375 -1.421875 13.671875 8.265625 \nQ 6.984375 17.96875 6.984375 36.375 \nQ 6.984375 53.65625 15.1875 63.9375 \nQ 23.390625 74.21875 37.203125 74.21875 \nQ 40.921875 74.21875 44.703125 73.484375 \nQ 48.484375 72.75 52.59375 71.296875 \nz\n\" id=\"DejaVuSans-54\"/>\n       </defs>\n       <use xlink:href=\"#DejaVuSans-54\"/>\n      </g>\n     </g>\n    </g>\n    <g id=\"ytick_5\">\n     <g id=\"line2d_10\">\n      <g>\n       <use style=\"stroke:#000000;stroke-width:0.8;\" x=\"26.925\" xlink:href=\"#m3e7117339b\" y=\"109.125\"/>\n      </g>\n     </g>\n     <g id=\"text_10\">\n      <!-- 8 -->\n      <g transform=\"translate(13.5625 112.924219)scale(0.1 -0.1)\">\n       <defs>\n        <path d=\"M 31.78125 34.625 \nQ 24.75 34.625 20.71875 30.859375 \nQ 16.703125 27.09375 16.703125 20.515625 \nQ 16.703125 13.921875 20.71875 10.15625 \nQ 24.75 6.390625 31.78125 6.390625 \nQ 38.8125 6.390625 42.859375 10.171875 \nQ 46.921875 13.96875 46.921875 20.515625 \nQ 46.921875 27.09375 42.890625 30.859375 \nQ 38.875 34.625 31.78125 34.625 \nz\nM 21.921875 38.8125 \nQ 15.578125 40.375 12.03125 44.71875 \nQ 8.5 49.078125 8.5 55.328125 \nQ 8.5 64.0625 14.71875 69.140625 \nQ 20.953125 74.21875 31.78125 74.21875 \nQ 42.671875 74.21875 48.875 69.140625 \nQ 55.078125 64.0625 55.078125 55.328125 \nQ 55.078125 49.078125 51.53125 44.71875 \nQ 48 40.375 41.703125 38.8125 \nQ 48.828125 37.15625 52.796875 32.3125 \nQ 56.78125 27.484375 56.78125 20.515625 \nQ 56.78125 9.90625 50.3125 4.234375 \nQ 43.84375 -1.421875 31.78125 -1.421875 \nQ 19.734375 -1.421875 13.25 4.234375 \nQ 6.78125 9.90625 6.78125 20.515625 \nQ 6.78125 27.484375 10.78125 32.3125 \nQ 14.796875 37.15625 21.921875 38.8125 \nz\nM 18.3125 54.390625 \nQ 18.3125 48.734375 21.84375 45.5625 \nQ 25.390625 42.390625 31.78125 42.390625 \nQ 38.140625 42.390625 41.71875 45.5625 \nQ 45.3125 48.734375 45.3125 54.390625 \nQ 45.3125 60.0625 41.71875 63.234375 \nQ 38.140625 66.40625 31.78125 66.40625 \nQ 25.390625 66.40625 21.84375 63.234375 \nQ 18.3125 60.0625 18.3125 54.390625 \nz\n\" id=\"DejaVuSans-56\"/>\n       </defs>\n       <use xlink:href=\"#DejaVuSans-56\"/>\n      </g>\n     </g>\n    </g>\n    <g id=\"ytick_6\">\n     <g id=\"line2d_11\">\n      <g>\n       <use style=\"stroke:#000000;stroke-width:0.8;\" x=\"26.925\" xlink:href=\"#m3e7117339b\" y=\"81.945\"/>\n      </g>\n     </g>\n     <g id=\"text_11\">\n      <!-- 10 -->\n      <g transform=\"translate(7.2 85.744219)scale(0.1 -0.1)\">\n       <use xlink:href=\"#DejaVuSans-49\"/>\n       <use x=\"63.623047\" xlink:href=\"#DejaVuSans-48\"/>\n      </g>\n     </g>\n    </g>\n    <g id=\"ytick_7\">\n     <g id=\"line2d_12\">\n      <g>\n       <use style=\"stroke:#000000;stroke-width:0.8;\" x=\"26.925\" xlink:href=\"#m3e7117339b\" y=\"54.765\"/>\n      </g>\n     </g>\n     <g id=\"text_12\">\n      <!-- 12 -->\n      <g transform=\"translate(7.2 58.564219)scale(0.1 -0.1)\">\n       <use xlink:href=\"#DejaVuSans-49\"/>\n       <use x=\"63.623047\" xlink:href=\"#DejaVuSans-50\"/>\n      </g>\n     </g>\n    </g>\n    <g id=\"ytick_8\">\n     <g id=\"line2d_13\">\n      <g>\n       <use style=\"stroke:#000000;stroke-width:0.8;\" x=\"26.925\" xlink:href=\"#m3e7117339b\" y=\"27.585\"/>\n      </g>\n     </g>\n     <g id=\"text_13\">\n      <!-- 14 -->\n      <g transform=\"translate(7.2 31.384219)scale(0.1 -0.1)\">\n       <use xlink:href=\"#DejaVuSans-49\"/>\n       <use x=\"63.623047\" xlink:href=\"#DejaVuSans-52\"/>\n      </g>\n     </g>\n    </g>\n   </g>\n   <g id=\"patch_3\">\n    <path d=\"M 26.925 224.64 \nL 26.925 7.2 \n\" style=\"fill:none;stroke:#000000;stroke-linecap:square;stroke-linejoin:miter;stroke-width:0.8;\"/>\n   </g>\n   <g id=\"patch_4\">\n    <path d=\"M 353.085 224.64 \nL 353.085 7.2 \n\" style=\"fill:none;stroke:#000000;stroke-linecap:square;stroke-linejoin:miter;stroke-width:0.8;\"/>\n   </g>\n   <g id=\"patch_5\">\n    <path d=\"M 26.925 224.64 \nL 353.085 224.64 \n\" style=\"fill:none;stroke:#000000;stroke-linecap:square;stroke-linejoin:miter;stroke-width:0.8;\"/>\n   </g>\n   <g id=\"patch_6\">\n    <path d=\"M 26.925 7.2 \nL 353.085 7.2 \n\" style=\"fill:none;stroke:#000000;stroke-linecap:square;stroke-linejoin:miter;stroke-width:0.8;\"/>\n   </g>\n  </g>\n </g>\n <defs>\n  <clipPath id=\"p50d0414560\">\n   <rect height=\"217.44\" width=\"326.16\" x=\"26.925\" y=\"7.2\"/>\n  </clipPath>\n </defs>\n</svg>\n",
      "image/png": "[encoded data removed]"
     },
     "metadata": {
      "needs_background": "light"
     }
    }
   ],
   "source": [
    "#See what this thing did\n",
    "\n",
    "pylab.imshow(np.concatenate(session.run(fluid.density).data[...,0], axis=1), origin='lower', cmap='magma')"
   ]
  },
  {
   "cell_type": "code",
   "execution_count": 9,
   "metadata": {},
   "outputs": [],
   "source": [
    "#Checkout the optimized velocity field\n",
    "\n",
    "optimized_velocity_field = session.run(states[0].velocity).at_centers()"
   ]
  },
  {
   "cell_type": "code",
   "execution_count": null,
   "metadata": {},
   "outputs": [],
   "source": [
    "pylab.title('Initial y-velocity (optimized)')\n",
    "pylab.imshow(np.concatenate(optimized_velocity_field.data[...,0], axis=1), origin='lower')"
   ]
  },
  {
   "cell_type": "code",
   "execution_count": null,
   "metadata": {},
   "outputs": [],
   "source": [
    "pylab.title('Initial x-velocity (optimized)')\n",
    "pylab.imshow(np.concatenate(optimized_velocity_field.data[...,1], axis=1), origin='lower')"
   ]
  },
  {
   "cell_type": "code",
   "execution_count": 13,
   "metadata": {},
   "outputs": [
    {
     "output_type": "stream",
     "name": "stdout",
     "text": [
      "Saved image frame 0\n",
      "Saved image frame 1\n",
      "Saved image frame 2\n",
      "Saved image frame 3\n"
     ]
    },
    {
     "output_type": "display_data",
     "data": {
      "text/plain": "<Figure size 432x288 with 1 Axes>",
      "image/svg+xml": "<?xml version=\"1.0\" encoding=\"utf-8\" standalone=\"no\"?>\n<!DOCTYPE svg PUBLIC \"-//W3C//DTD SVG 1.1//EN\"\n  \"http://www.w3.org/Graphics/SVG/1.1/DTD/svg11.dtd\">\n<!-- Created with matplotlib (https://matplotlib.org/) -->\n<svg height=\"248.518125pt\" version=\"1.1\" viewBox=\"0 0 360.285 248.518125\" width=\"360.285pt\" xmlns=\"http://www.w3.org/2000/svg\" xmlns:xlink=\"http://www.w3.org/1999/xlink\">\n <metadata>\n  <rdf:RDF xmlns:cc=\"http://creativecommons.org/ns#\" xmlns:dc=\"http://purl.org/dc/elements/1.1/\" xmlns:rdf=\"http://www.w3.org/1999/02/22-rdf-syntax-ns#\">\n   <cc:Work>\n    <dc:type rdf:resource=\"http://purl.org/dc/dcmitype/StillImage\"/>\n    <dc:date>2021-03-23T10:45:42.862477</dc:date>\n    <dc:format>image/svg+xml</dc:format>\n    <dc:creator>\n     <cc:Agent>\n      <dc:title>Matplotlib v3.3.2, https://matplotlib.org/</dc:title>\n     </cc:Agent>\n    </dc:creator>\n   </cc:Work>\n  </rdf:RDF>\n </metadata>\n <defs>\n  <style type=\"text/css\">*{stroke-linecap:butt;stroke-linejoin:round;}</style>\n </defs>\n <g id=\"figure_1\">\n  <g id=\"patch_1\">\n   <path d=\"M 0 248.518125 \nL 360.285 248.518125 \nL 360.285 0 \nL 0 0 \nz\n\" style=\"fill:none;\"/>\n  </g>\n  <g id=\"axes_1\">\n   <g id=\"patch_2\">\n    <path d=\"M 26.925 224.64 \nL 353.085 224.64 \nL 353.085 7.2 \nL 26.925 7.2 \nz\n\" style=\"fill:#ffffff;\"/>\n   </g>\n   <g clip-path=\"url(#p706a68118e)\">\n    <image height=\"218\" id=\"imagebdbc6d9c61\" transform=\"scale(1 -1)translate(0 -218)\" width=\"327\" x=\"27\" xlink:href=\"data:image/png;base64,\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\" y=\"-6.518125\"/>\n   </g>\n   <g id=\"matplotlib.axis_1\">\n    <g id=\"xtick_1\">\n     <g id=\"line2d_1\">\n      <defs>\n       <path d=\"M 0 0 \nL 0 3.5 \n\" id=\"m9d895fd91a\" style=\"stroke:#000000;stroke-width:0.8;\"/>\n      </defs>\n      <g>\n       <use style=\"stroke:#000000;stroke-width:0.8;\" x=\"33.72\" xlink:href=\"#m9d895fd91a\" y=\"224.64\"/>\n      </g>\n     </g>\n     <g id=\"text_1\">\n      <!-- 0 -->\n      <g transform=\"translate(30.53875 239.238437)scale(0.1 -0.1)\">\n       <defs>\n        <path d=\"M 31.78125 66.40625 \nQ 24.171875 66.40625 20.328125 58.90625 \nQ 16.5 51.421875 16.5 36.375 \nQ 16.5 21.390625 20.328125 13.890625 \nQ 24.171875 6.390625 31.78125 6.390625 \nQ 39.453125 6.390625 43.28125 13.890625 \nQ 47.125 21.390625 47.125 36.375 \nQ 47.125 51.421875 43.28125 58.90625 \nQ 39.453125 66.40625 31.78125 66.40625 \nz\nM 31.78125 74.21875 \nQ 44.046875 74.21875 50.515625 64.515625 \nQ 56.984375 54.828125 56.984375 36.375 \nQ 56.984375 17.96875 50.515625 8.265625 \nQ 44.046875 -1.421875 31.78125 -1.421875 \nQ 19.53125 -1.421875 13.0625 8.265625 \nQ 6.59375 17.96875 6.59375 36.375 \nQ 6.59375 54.828125 13.0625 64.515625 \nQ 19.53125 74.21875 31.78125 74.21875 \nz\n\" id=\"DejaVuSans-48\"/>\n       </defs>\n       <use xlink:href=\"#DejaVuSans-48\"/>\n      </g>\n     </g>\n    </g>\n    <g id=\"xtick_2\">\n     <g id=\"line2d_2\">\n      <g>\n       <use style=\"stroke:#000000;stroke-width:0.8;\" x=\"101.67\" xlink:href=\"#m9d895fd91a\" y=\"224.64\"/>\n      </g>\n     </g>\n     <g id=\"text_2\">\n      <!-- 5 -->\n      <g transform=\"translate(98.48875 239.238437)scale(0.1 -0.1)\">\n       <defs>\n        <path d=\"M 10.796875 72.90625 \nL 49.515625 72.90625 \nL 49.515625 64.59375 \nL 19.828125 64.59375 \nL 19.828125 46.734375 \nQ 21.96875 47.46875 24.109375 47.828125 \nQ 26.265625 48.1875 28.421875 48.1875 \nQ 40.625 48.1875 47.75 41.5 \nQ 54.890625 34.8125 54.890625 23.390625 \nQ 54.890625 11.625 47.5625 5.09375 \nQ 40.234375 -1.421875 26.90625 -1.421875 \nQ 22.3125 -1.421875 17.546875 -0.640625 \nQ 12.796875 0.140625 7.71875 1.703125 \nL 7.71875 11.625 \nQ 12.109375 9.234375 16.796875 8.0625 \nQ 21.484375 6.890625 26.703125 6.890625 \nQ 35.15625 6.890625 40.078125 11.328125 \nQ 45.015625 15.765625 45.015625 23.390625 \nQ 45.015625 31 40.078125 35.4375 \nQ 35.15625 39.890625 26.703125 39.890625 \nQ 22.75 39.890625 18.8125 39.015625 \nQ 14.890625 38.140625 10.796875 36.28125 \nz\n\" id=\"DejaVuSans-53\"/>\n       </defs>\n       <use xlink:href=\"#DejaVuSans-53\"/>\n      </g>\n     </g>\n    </g>\n    <g id=\"xtick_3\">\n     <g id=\"line2d_3\">\n      <g>\n       <use style=\"stroke:#000000;stroke-width:0.8;\" x=\"169.62\" xlink:href=\"#m9d895fd91a\" y=\"224.64\"/>\n      </g>\n     </g>\n     <g id=\"text_3\">\n      <!-- 10 -->\n      <g transform=\"translate(163.2575 239.238437)scale(0.1 -0.1)\">\n       <defs>\n        <path d=\"M 12.40625 8.296875 \nL 28.515625 8.296875 \nL 28.515625 63.921875 \nL 10.984375 60.40625 \nL 10.984375 69.390625 \nL 28.421875 72.90625 \nL 38.28125 72.90625 \nL 38.28125 8.296875 \nL 54.390625 8.296875 \nL 54.390625 0 \nL 12.40625 0 \nz\n\" id=\"DejaVuSans-49\"/>\n       </defs>\n       <use xlink:href=\"#DejaVuSans-49\"/>\n       <use x=\"63.623047\" xlink:href=\"#DejaVuSans-48\"/>\n      </g>\n     </g>\n    </g>\n    <g id=\"xtick_4\">\n     <g id=\"line2d_4\">\n      <g>\n       <use style=\"stroke:#000000;stroke-width:0.8;\" x=\"237.57\" xlink:href=\"#m9d895fd91a\" y=\"224.64\"/>\n      </g>\n     </g>\n     <g id=\"text_4\">\n      <!-- 15 -->\n      <g transform=\"translate(231.2075 239.238437)scale(0.1 -0.1)\">\n       <use xlink:href=\"#DejaVuSans-49\"/>\n       <use x=\"63.623047\" xlink:href=\"#DejaVuSans-53\"/>\n      </g>\n     </g>\n    </g>\n    <g id=\"xtick_5\">\n     <g id=\"line2d_5\">\n      <g>\n       <use style=\"stroke:#000000;stroke-width:0.8;\" x=\"305.52\" xlink:href=\"#m9d895fd91a\" y=\"224.64\"/>\n      </g>\n     </g>\n     <g id=\"text_5\">\n      <!-- 20 -->\n      <g transform=\"translate(299.1575 239.238437)scale(0.1 -0.1)\">\n       <defs>\n        <path d=\"M 19.1875 8.296875 \nL 53.609375 8.296875 \nL 53.609375 0 \nL 7.328125 0 \nL 7.328125 8.296875 \nQ 12.9375 14.109375 22.625 23.890625 \nQ 32.328125 33.6875 34.8125 36.53125 \nQ 39.546875 41.84375 41.421875 45.53125 \nQ 43.3125 49.21875 43.3125 52.78125 \nQ 43.3125 58.59375 39.234375 62.25 \nQ 35.15625 65.921875 28.609375 65.921875 \nQ 23.96875 65.921875 18.8125 64.3125 \nQ 13.671875 62.703125 7.8125 59.421875 \nL 7.8125 69.390625 \nQ 13.765625 71.78125 18.9375 73 \nQ 24.125 74.21875 28.421875 74.21875 \nQ 39.75 74.21875 46.484375 68.546875 \nQ 53.21875 62.890625 53.21875 53.421875 \nQ 53.21875 48.921875 51.53125 44.890625 \nQ 49.859375 40.875 45.40625 35.40625 \nQ 44.1875 33.984375 37.640625 27.21875 \nQ 31.109375 20.453125 19.1875 8.296875 \nz\n\" id=\"DejaVuSans-50\"/>\n       </defs>\n       <use xlink:href=\"#DejaVuSans-50\"/>\n       <use x=\"63.623047\" xlink:href=\"#DejaVuSans-48\"/>\n      </g>\n     </g>\n    </g>\n   </g>\n   <g id=\"matplotlib.axis_2\">\n    <g id=\"ytick_1\">\n     <g id=\"line2d_6\">\n      <defs>\n       <path d=\"M 0 0 \nL -3.5 0 \n\" id=\"md90cba0bbf\" style=\"stroke:#000000;stroke-width:0.8;\"/>\n      </defs>\n      <g>\n       <use style=\"stroke:#000000;stroke-width:0.8;\" x=\"26.925\" xlink:href=\"#md90cba0bbf\" y=\"217.845\"/>\n      </g>\n     </g>\n     <g id=\"text_6\">\n      <!-- 0 -->\n      <g transform=\"translate(13.5625 221.644219)scale(0.1 -0.1)\">\n       <use xlink:href=\"#DejaVuSans-48\"/>\n      </g>\n     </g>\n    </g>\n    <g id=\"ytick_2\">\n     <g id=\"line2d_7\">\n      <g>\n       <use style=\"stroke:#000000;stroke-width:0.8;\" x=\"26.925\" xlink:href=\"#md90cba0bbf\" y=\"190.665\"/>\n      </g>\n     </g>\n     <g id=\"text_7\">\n      <!-- 2 -->\n      <g transform=\"translate(13.5625 194.464219)scale(0.1 -0.1)\">\n       <use xlink:href=\"#DejaVuSans-50\"/>\n      </g>\n     </g>\n    </g>\n    <g id=\"ytick_3\">\n     <g id=\"line2d_8\">\n      <g>\n       <use style=\"stroke:#000000;stroke-width:0.8;\" x=\"26.925\" xlink:href=\"#md90cba0bbf\" y=\"163.485\"/>\n      </g>\n     </g>\n     <g id=\"text_8\">\n      <!-- 4 -->\n      <g transform=\"translate(13.5625 167.284219)scale(0.1 -0.1)\">\n       <defs>\n        <path d=\"M 37.796875 64.3125 \nL 12.890625 25.390625 \nL 37.796875 25.390625 \nz\nM 35.203125 72.90625 \nL 47.609375 72.90625 \nL 47.609375 25.390625 \nL 58.015625 25.390625 \nL 58.015625 17.1875 \nL 47.609375 17.1875 \nL 47.609375 0 \nL 37.796875 0 \nL 37.796875 17.1875 \nL 4.890625 17.1875 \nL 4.890625 26.703125 \nz\n\" id=\"DejaVuSans-52\"/>\n       </defs>\n       <use xlink:href=\"#DejaVuSans-52\"/>\n      </g>\n     </g>\n    </g>\n    <g id=\"ytick_4\">\n     <g id=\"line2d_9\">\n      <g>\n       <use style=\"stroke:#000000;stroke-width:0.8;\" x=\"26.925\" xlink:href=\"#md90cba0bbf\" y=\"136.305\"/>\n      </g>\n     </g>\n     <g id=\"text_9\">\n      <!-- 6 -->\n      <g transform=\"translate(13.5625 140.104219)scale(0.1 -0.1)\">\n       <defs>\n        <path d=\"M 33.015625 40.375 \nQ 26.375 40.375 22.484375 35.828125 \nQ 18.609375 31.296875 18.609375 23.390625 \nQ 18.609375 15.53125 22.484375 10.953125 \nQ 26.375 6.390625 33.015625 6.390625 \nQ 39.65625 6.390625 43.53125 10.953125 \nQ 47.40625 15.53125 47.40625 23.390625 \nQ 47.40625 31.296875 43.53125 35.828125 \nQ 39.65625 40.375 33.015625 40.375 \nz\nM 52.59375 71.296875 \nL 52.59375 62.3125 \nQ 48.875 64.0625 45.09375 64.984375 \nQ 41.3125 65.921875 37.59375 65.921875 \nQ 27.828125 65.921875 22.671875 59.328125 \nQ 17.53125 52.734375 16.796875 39.40625 \nQ 19.671875 43.65625 24.015625 45.921875 \nQ 28.375 48.1875 33.59375 48.1875 \nQ 44.578125 48.1875 50.953125 41.515625 \nQ 57.328125 34.859375 57.328125 23.390625 \nQ 57.328125 12.15625 50.6875 5.359375 \nQ 44.046875 -1.421875 33.015625 -1.421875 \nQ 20.359375 -1.421875 13.671875 8.265625 \nQ 6.984375 17.96875 6.984375 36.375 \nQ 6.984375 53.65625 15.1875 63.9375 \nQ 23.390625 74.21875 37.203125 74.21875 \nQ 40.921875 74.21875 44.703125 73.484375 \nQ 48.484375 72.75 52.59375 71.296875 \nz\n\" id=\"DejaVuSans-54\"/>\n       </defs>\n       <use xlink:href=\"#DejaVuSans-54\"/>\n      </g>\n     </g>\n    </g>\n    <g id=\"ytick_5\">\n     <g id=\"line2d_10\">\n      <g>\n       <use style=\"stroke:#000000;stroke-width:0.8;\" x=\"26.925\" xlink:href=\"#md90cba0bbf\" y=\"109.125\"/>\n      </g>\n     </g>\n     <g id=\"text_10\">\n      <!-- 8 -->\n      <g transform=\"translate(13.5625 112.924219)scale(0.1 -0.1)\">\n       <defs>\n        <path d=\"M 31.78125 34.625 \nQ 24.75 34.625 20.71875 30.859375 \nQ 16.703125 27.09375 16.703125 20.515625 \nQ 16.703125 13.921875 20.71875 10.15625 \nQ 24.75 6.390625 31.78125 6.390625 \nQ 38.8125 6.390625 42.859375 10.171875 \nQ 46.921875 13.96875 46.921875 20.515625 \nQ 46.921875 27.09375 42.890625 30.859375 \nQ 38.875 34.625 31.78125 34.625 \nz\nM 21.921875 38.8125 \nQ 15.578125 40.375 12.03125 44.71875 \nQ 8.5 49.078125 8.5 55.328125 \nQ 8.5 64.0625 14.71875 69.140625 \nQ 20.953125 74.21875 31.78125 74.21875 \nQ 42.671875 74.21875 48.875 69.140625 \nQ 55.078125 64.0625 55.078125 55.328125 \nQ 55.078125 49.078125 51.53125 44.71875 \nQ 48 40.375 41.703125 38.8125 \nQ 48.828125 37.15625 52.796875 32.3125 \nQ 56.78125 27.484375 56.78125 20.515625 \nQ 56.78125 9.90625 50.3125 4.234375 \nQ 43.84375 -1.421875 31.78125 -1.421875 \nQ 19.734375 -1.421875 13.25 4.234375 \nQ 6.78125 9.90625 6.78125 20.515625 \nQ 6.78125 27.484375 10.78125 32.3125 \nQ 14.796875 37.15625 21.921875 38.8125 \nz\nM 18.3125 54.390625 \nQ 18.3125 48.734375 21.84375 45.5625 \nQ 25.390625 42.390625 31.78125 42.390625 \nQ 38.140625 42.390625 41.71875 45.5625 \nQ 45.3125 48.734375 45.3125 54.390625 \nQ 45.3125 60.0625 41.71875 63.234375 \nQ 38.140625 66.40625 31.78125 66.40625 \nQ 25.390625 66.40625 21.84375 63.234375 \nQ 18.3125 60.0625 18.3125 54.390625 \nz\n\" id=\"DejaVuSans-56\"/>\n       </defs>\n       <use xlink:href=\"#DejaVuSans-56\"/>\n      </g>\n     </g>\n    </g>\n    <g id=\"ytick_6\">\n     <g id=\"line2d_11\">\n      <g>\n       <use style=\"stroke:#000000;stroke-width:0.8;\" x=\"26.925\" xlink:href=\"#md90cba0bbf\" y=\"81.945\"/>\n      </g>\n     </g>\n     <g id=\"text_11\">\n      <!-- 10 -->\n      <g transform=\"translate(7.2 85.744219)scale(0.1 -0.1)\">\n       <use xlink:href=\"#DejaVuSans-49\"/>\n       <use x=\"63.623047\" xlink:href=\"#DejaVuSans-48\"/>\n      </g>\n     </g>\n    </g>\n    <g id=\"ytick_7\">\n     <g id=\"line2d_12\">\n      <g>\n       <use style=\"stroke:#000000;stroke-width:0.8;\" x=\"26.925\" xlink:href=\"#md90cba0bbf\" y=\"54.765\"/>\n      </g>\n     </g>\n     <g id=\"text_12\">\n      <!-- 12 -->\n      <g transform=\"translate(7.2 58.564219)scale(0.1 -0.1)\">\n       <use xlink:href=\"#DejaVuSans-49\"/>\n       <use x=\"63.623047\" xlink:href=\"#DejaVuSans-50\"/>\n      </g>\n     </g>\n    </g>\n    <g id=\"ytick_8\">\n     <g id=\"line2d_13\">\n      <g>\n       <use style=\"stroke:#000000;stroke-width:0.8;\" x=\"26.925\" xlink:href=\"#md90cba0bbf\" y=\"27.585\"/>\n      </g>\n     </g>\n     <g id=\"text_13\">\n      <!-- 14 -->\n      <g transform=\"translate(7.2 31.384219)scale(0.1 -0.1)\">\n       <use xlink:href=\"#DejaVuSans-49\"/>\n       <use x=\"63.623047\" xlink:href=\"#DejaVuSans-52\"/>\n      </g>\n     </g>\n    </g>\n   </g>\n   <g id=\"patch_3\">\n    <path d=\"M 26.925 224.64 \nL 26.925 7.2 \n\" style=\"fill:none;stroke:#000000;stroke-linecap:square;stroke-linejoin:miter;stroke-width:0.8;\"/>\n   </g>\n   <g id=\"patch_4\">\n    <path d=\"M 353.085 224.64 \nL 353.085 7.2 \n\" style=\"fill:none;stroke:#000000;stroke-linecap:square;stroke-linejoin:miter;stroke-width:0.8;\"/>\n   </g>\n   <g id=\"patch_5\">\n    <path d=\"M 26.925 224.64 \nL 353.085 224.64 \n\" style=\"fill:none;stroke:#000000;stroke-linecap:square;stroke-linejoin:miter;stroke-width:0.8;\"/>\n   </g>\n   <g id=\"patch_6\">\n    <path d=\"M 26.925 7.2 \nL 353.085 7.2 \n\" style=\"fill:none;stroke:#000000;stroke-linecap:square;stroke-linejoin:miter;stroke-width:0.8;\"/>\n   </g>\n  </g>\n </g>\n <defs>\n  <clipPath id=\"p706a68118e\">\n   <rect height=\"217.44\" width=\"326.16\" x=\"26.925\" y=\"7.2\"/>\n  </clipPath>\n </defs>\n</svg>\n",
      "image/png": "[encoded data removed]"
     },
     "metadata": {
      "needs_background": "light"
     }
    }
   ],
   "source": [
    "#Saving the optimized density fields as images\n",
    "\n",
    "if (save_imgs):\n",
    "    for i in range(4):\n",
    "        save_name = \"vis/density%02d_frame%03d.png\"\n",
    "        pylab.imshow(np.concatenate(session.run(states[i].density).data[...,0], axis=1), origin='lower', cmap='magma')\n",
    "        pylab.savefig(save_name % (res, i), bbox_inches='tight')\n",
    "\n",
    "        save_name = \"vis/velocity_y_%02d_frame%03d.png\"\n",
    "        pylab.imshow(np.concatenate(session.run(states[i].velocity).at_centers().data[...,0], axis=1), origin='lower')\n",
    "        pylab.savefig(save_name % (res, i), bbox_inches='tight')\n",
    "\n",
    "        save_name = \"vis/velocity_x_%02d_frame%03d.png\"\n",
    "        pylab.imshow(np.concatenate(session.run(states[i].velocity).at_centers().data[...,1], axis=1), origin='lower')\n",
    "        pylab.savefig(save_name % (res, i), bbox_inches='tight')\n",
    "\n",
    "        grad = session.run(states[i+1].velocity).at_centers() - session.run(states[i].velocity).at_centers()\n",
    "        pylab.imshow(np.concatenate(grad.data[...,1], axis=1), origin='lower')\n",
    "        save_name = \"vis/grad_x_%02d_frame%03d.png\"\n",
    "        pylab.savefig(save_name % (res, i), bbox_inches='tight')\n",
    "        pylab.imshow(np.concatenate(grad.data[...,0], axis=1), origin='lower')\n",
    "        save_name = \"vis/grad_y_%02d_frame%03d.png\"\n",
    "        pylab.savefig(save_name % (res, i), bbox_inches='tight')\n",
    "\n",
    "        print(\"Saved image frame %d\" % i)\n",
    "        "
   ]
  },
  {
   "cell_type": "code",
   "execution_count": null,
   "metadata": {},
   "outputs": [],
   "source": [
    "###For Google collab\n",
    "\n",
    "#!zip -r /content/file.zip /content/\n",
    "#from google.colab import files\n",
    "#files.download(\"/content/file.zip\")"
   ]
  }
 ]
}