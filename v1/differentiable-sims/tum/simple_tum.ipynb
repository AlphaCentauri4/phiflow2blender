{
 "metadata": {
  "language_info": {
   "codemirror_mode": {
    "name": "ipython",
    "version": 3
   },
   "file_extension": ".py",
   "mimetype": "text/x-python",
   "name": "python",
   "nbconvert_exporter": "python",
   "pygments_lexer": "ipython3",
   "version": "3.7.9-final"
  },
  "orig_nbformat": 2,
  "kernelspec": {
   "name": "python37964bittfconda4341aa1551314b3a952a60b6b86fb755",
   "display_name": "Python 3.7.9 64-bit ('tf': conda)",
   "language": "python"
  }
 },
 "nbformat": 4,
 "nbformat_minor": 2,
 "cells": [
  {
   "source": [
    "# Setting up the Simple `TUM`"
   ],
   "cell_type": "markdown",
   "metadata": {}
  },
  {
   "cell_type": "code",
   "execution_count": 1,
   "metadata": {},
   "outputs": [
    {
     "output_type": "stream",
     "name": "stdout",
     "text": [
      "Could not load resample cuda libraries: CUDA binaries not found at /home/intergalactic-mammoth/anaconda3/envs/tf/lib/python3.7/site-packages/phi/tf/cuda/build/resample.so. Run \"python setup.py cuda\" to compile them\n",
      "WARNING:tensorflow:From /home/intergalactic-mammoth/anaconda3/envs/tf/lib/python3.7/site-packages/phi/tf/util.py:119: The name tf.AUTO_REUSE is deprecated. Please use tf.compat.v1.AUTO_REUSE instead.\n",
      "\n",
      "WARNING:tensorflow:From /home/intergalactic-mammoth/anaconda3/envs/tf/lib/python3.7/site-packages/phi/tf/profiling.py:12: The name tf.RunOptions is deprecated. Please use tf.compat.v1.RunOptions instead.\n",
      "\n",
      "WARNING:tensorflow:From /home/intergalactic-mammoth/anaconda3/envs/tf/lib/python3.7/site-packages/phi/tf/profiling.py:13: The name tf.RunMetadata is deprecated. Please use tf.compat.v1.RunMetadata instead.\n",
      "\n",
      "WARNING:tensorflow:From /home/intergalactic-mammoth/anaconda3/envs/tf/lib/python3.7/site-packages/phi/tf/session.py:17: The name tf.Session is deprecated. Please use tf.compat.v1.Session instead.\n",
      "\n",
      "WARNING:tensorflow:From /home/intergalactic-mammoth/anaconda3/envs/tf/lib/python3.7/site-packages/phi/tf/session.py:18: The name tf.get_default_graph is deprecated. Please use tf.compat.v1.get_default_graph instead.\n",
      "\n"
     ]
    }
   ],
   "source": [
    "from phi.tf.flow import *  # Causes deprecation warnings with TF 1.15\n",
    "import pylab\n",
    "import numpy as np\n",
    "session = Session(None)  # Used to run the TensorFlow graph\n",
    "\n",
    "%load_ext autoreload\n",
    "%autoreload 2"
   ]
  },
  {
   "cell_type": "code",
   "execution_count": 2,
   "metadata": {},
   "outputs": [],
   "source": [
    "#setup\n",
    "\n",
    "save_imgs = True\n",
    "res = 8\n",
    "buoyancy = 0.0\n",
    "rate = 5\n",
    "radius = 2"
   ]
  },
  {
   "cell_type": "code",
   "execution_count": 3,
   "metadata": {},
   "outputs": [
    {
     "output_type": "stream",
     "name": "stdout",
     "text": [
      "WARNING:tensorflow:From /home/intergalactic-mammoth/anaconda3/envs/tf/lib/python3.7/site-packages/phi/tf/session.py:29: The name tf.train.Saver is deprecated. Please use tf.compat.v1.train.Saver instead.\n\n"
     ]
    }
   ],
   "source": [
    "#Create the optimizable simulation\n",
    "#buoyancy is set to zero\n",
    "\n",
    "world = World()\n",
    "fluid = world.add(Fluid(Domain([2*res, 3*res], boundaries=CLOSED), buoyancy_factor=buoyancy), physics=IncompressibleFlow())\n",
    "world.add(Inflow(Sphere(center=[0.3*res,1.5*res], radius=radius), rate=rate))\n",
    "world.add(Inflow(Sphere(center=[0.3*res,0.75*res], radius=radius), rate=rate))\n",
    "world.add(Inflow(Sphere(center=[0.3*res,2.25*res], radius=radius), rate=rate))\n",
    "#world.add(Inflow(box[0.1*res:0.35*res, 0.5*res:2.5*res], rate = rate))\n",
    "\n",
    "fluid.velocity = variable(fluid.velocity)  # create TensorFlow variable\n",
    "states = []\n",
    "states.append(fluid.state)  # Remember the state at t=0 for later visualization\n",
    "session.initialize_variables()\n",
    "\n"
   ]
  },
  {
   "cell_type": "code",
   "execution_count": 4,
   "metadata": {},
   "outputs": [
    {
     "output_type": "stream",
     "name": "stdout",
     "text": [
      "<tf.Variable 'Variable/data/0/data:0' shape=(1, 17, 24, 1) dtype=float32_ref>\n<tf.Variable 'Variable/data/1/data:0' shape=(1, 16, 25, 1) dtype=float32_ref>\n"
     ]
    }
   ],
   "source": [
    "#See tensorflow variables\n",
    "[print(grid.data) for grid in fluid.velocity.unstack()];"
   ]
  },
  {
   "cell_type": "code",
   "execution_count": 5,
   "metadata": {},
   "outputs": [
    {
     "output_type": "stream",
     "name": "stdout",
     "text": [
      "Building graph for frame 0\n",
      "Building graph for frame 1\n",
      "Building graph for frame 2\n",
      "Building graph for frame 3\n",
      "Building graph for frame 4\n",
      "Building graph for frame 5\n",
      "Building graph for frame 6\n",
      "Building graph for frame 7\n",
      "Building graph for frame 8\n",
      "Building graph for frame 9\n",
      "Building graph for frame 10\n",
      "Building graph for frame 11\n",
      "Building graph for frame 12\n",
      "Building graph for frame 13\n",
      "Building graph for frame 14\n",
      "Building graph for frame 15\n",
      "Building graph for frame 16\n",
      "Building graph for frame 17\n",
      "Building graph for frame 18\n",
      "Building graph for frame 19\n",
      "Building graph for frame 20\n",
      "Building graph for frame 21\n",
      "Building graph for frame 22\n",
      "Building graph for frame 23\n",
      "Building graph for frame 24\n",
      "Building graph for frame 25\n",
      "Building graph for frame 26\n",
      "Building graph for frame 27\n",
      "Building graph for frame 28\n",
      "Building graph for frame 29\n",
      "Building graph for frame 30\n",
      "Building graph for frame 31\n",
      "Building graph for frame 32\n",
      "Building graph for frame 33\n",
      "Building graph for frame 34\n",
      "Building graph for frame 35\n",
      "Building graph for frame 36\n",
      "Building graph for frame 37\n",
      "Building graph for frame 38\n",
      "Building graph for frame 39\n",
      "Building graph for frame 40\n",
      "Building graph for frame 41\n",
      "Building graph for frame 42\n",
      "Building graph for frame 43\n",
      "Building graph for frame 44\n",
      "Building graph for frame 45\n",
      "Building graph for frame 46\n",
      "Building graph for frame 47\n",
      "Building graph for frame 48\n",
      "Building graph for frame 49\n",
      "Computing frames...\n"
     ]
    },
    {
     "output_type": "execute_result",
     "data": {
      "text/plain": [
       "<matplotlib.image.AxesImage at 0x7f2be5e1e590>"
      ]
     },
     "metadata": {},
     "execution_count": 5
    },
    {
     "output_type": "display_data",
     "data": {
      "text/plain": "<Figure size 432x288 with 1 Axes>",
      "image/svg+xml": "<?xml version=\"1.0\" encoding=\"utf-8\" standalone=\"no\"?>\n<!DOCTYPE svg PUBLIC \"-//W3C//DTD SVG 1.1//EN\"\n  \"http://www.w3.org/Graphics/SVG/1.1/DTD/svg11.dtd\">\n<!-- Created with matplotlib (https://matplotlib.org/) -->\n<svg height=\"248.518125pt\" version=\"1.1\" viewBox=\"0 0 360.285 248.518125\" width=\"360.285pt\" xmlns=\"http://www.w3.org/2000/svg\" xmlns:xlink=\"http://www.w3.org/1999/xlink\">\n <metadata>\n  <rdf:RDF xmlns:cc=\"http://creativecommons.org/ns#\" xmlns:dc=\"http://purl.org/dc/elements/1.1/\" xmlns:rdf=\"http://www.w3.org/1999/02/22-rdf-syntax-ns#\">\n   <cc:Work>\n    <dc:type rdf:resource=\"http://purl.org/dc/dcmitype/StillImage\"/>\n    <dc:date>2021-01-03T22:57:06.122147</dc:date>\n    <dc:format>image/svg+xml</dc:format>\n    <dc:creator>\n     <cc:Agent>\n      <dc:title>Matplotlib v3.3.3, https://matplotlib.org/</dc:title>\n     </cc:Agent>\n    </dc:creator>\n   </cc:Work>\n  </rdf:RDF>\n </metadata>\n <defs>\n  <style type=\"text/css\">*{stroke-linecap:butt;stroke-linejoin:round;}</style>\n </defs>\n <g id=\"figure_1\">\n  <g id=\"patch_1\">\n   <path d=\"M 0 248.518125 \nL 360.285 248.518125 \nL 360.285 0 \nL 0 0 \nz\n\" style=\"fill:none;\"/>\n  </g>\n  <g id=\"axes_1\">\n   <g id=\"patch_2\">\n    <path d=\"M 26.925 224.64 \nL 353.085 224.64 \nL 353.085 7.2 \nL 26.925 7.2 \nz\n\" style=\"fill:#ffffff;\"/>\n   </g>\n   <g clip-path=\"url(#p93e5cbecb5)\">\n    <image height=\"218\" id=\"imagec900df4e01\" transform=\"scale(1 -1)translate(0 -218)\" width=\"327\" x=\"26.925\" xlink:href=\"data:image/png;base64,\niVBORw0KGgoAAAANSUhEUgAAAUcAAADaCAYAAAA1xoBCAAADu0lEQVR4nO3coYpUYRiA4VlnEUHQtQgWF/NGo8HkDRi8AZNgN5gN1kUw6RVYbNtFvAKjbDKJqFVc1ht4R5yfw5md4Xn6x/n4wstJ/95isTxf7KB7158Ozb04ujzxJqs9//x7aO7jr1cTb7KaO05jV+845w3ndmnTCwBcROIIEMQRIIgjQBBHgCCOAEEcAYI4AgRxBAjiCBDEESCII0AQR4Cwv+kF/sf+8mDtmZNH34e+deX146G5ESdP3gzN3Xh7MO0i/+CO09jVO47e8M/Zz6G5OflzBAjiCBDEESCII0AQR4AgjgBBHAGCOAIEcQQI4ggQxBEgiCNA2IqHJw6v3V975urDO0PfOhuaGjO64+G79e8xyh2nsat3HL3hlx/vh+bm5M8RIIgjQBBHgCCOAEEcAYI4AgRxBAjiCBDEESCII0AQR4AgjgBBHAHCVrzKM/KCx+nxzaFv3X4wNDbk9Pjb0NycL5q44zR29Y7b8LrOKH+OAEEcAYI4AgRxBAjiCBDEESCII0AQR4AgjgBBHAGCOAIEcQQIW/HwxIi7Hz4NzT07ujXxJqu9/Dq245zccRruuH38OQIEcQQI4ggQxBEgiCNAEEeAII4AQRwBgjgCBHEECOIIEMQRIIgjQNhbLJbnm14C4KLx5wgQxBEgiCNAEEeAII4AQRwBgjgCBHEECOIIEMQRIIgjQBBHgCCOAEEcAYI4AgRxBAjiCBDEESCII0AQR4AgjgBBHAGCOAIEcQQI4ggQxBEgiCNAEEeAII4AQRwBgjgCBHEECOIIEMQRIIgjQBBHgCCOAEEcAYI4AgRxBAjiCBDEESCII0AQR4AgjgBBHAGCOAIEcQQI4ggQxBEgiCNAEEeAII4AQRwBgjgCBHEECOIIEMQRIIgjQBBHgCCOAEEcAYI4AgRxBAjiCBDEESCII0AQR4AgjgBBHAGCOAIEcQQI4ggQxBEgiCNAEEeAII4AQRwBgjgCBHEECOIIEMQRIIgjQBBHgCCOAEEcAYI4AgRxBAjiCBDEESCII0AQR4AgjgBBHAGCOAIEcQQI4ggQxBEgiCNAEEeAII4AQRwBgjgCBHEECOIIEMQRIIgjQBBHgCCOAEEcAYI4AgRxBAjiCBDEESCII0AQR4AgjgBBHAGCOAIEcQQI4ggQxBEgiCNAEEeAII4AQRwBgjgCBHEECOIIEMQRIIgjQBBHgCCOAEEcAYI4AgRxBAjiCBDEESCII0AQR4AgjgBBHAGCOAIEcQQI4ggQxBEgiCNAEEeAII4A4S+qeVnshZLzJwAAAABJRU5ErkJggg==\" y=\"-6.64\"/>\n   </g>\n   <g id=\"matplotlib.axis_1\">\n    <g id=\"xtick_1\">\n     <g id=\"line2d_1\">\n      <defs>\n       <path d=\"M 0 0 \nL 0 3.5 \n\" id=\"mf2cb08912a\" style=\"stroke:#000000;stroke-width:0.8;\"/>\n      </defs>\n      <g>\n       <use style=\"stroke:#000000;stroke-width:0.8;\" x=\"33.72\" xlink:href=\"#mf2cb08912a\" y=\"224.64\"/>\n      </g>\n     </g>\n     <g id=\"text_1\">\n      <!-- 0 -->\n      <g transform=\"translate(30.53875 239.238437)scale(0.1 -0.1)\">\n       <defs>\n        <path d=\"M 31.78125 66.40625 \nQ 24.171875 66.40625 20.328125 58.90625 \nQ 16.5 51.421875 16.5 36.375 \nQ 16.5 21.390625 20.328125 13.890625 \nQ 24.171875 6.390625 31.78125 6.390625 \nQ 39.453125 6.390625 43.28125 13.890625 \nQ 47.125 21.390625 47.125 36.375 \nQ 47.125 51.421875 43.28125 58.90625 \nQ 39.453125 66.40625 31.78125 66.40625 \nz\nM 31.78125 74.21875 \nQ 44.046875 74.21875 50.515625 64.515625 \nQ 56.984375 54.828125 56.984375 36.375 \nQ 56.984375 17.96875 50.515625 8.265625 \nQ 44.046875 -1.421875 31.78125 -1.421875 \nQ 19.53125 -1.421875 13.0625 8.265625 \nQ 6.59375 17.96875 6.59375 36.375 \nQ 6.59375 54.828125 13.0625 64.515625 \nQ 19.53125 74.21875 31.78125 74.21875 \nz\n\" id=\"DejaVuSans-48\"/>\n       </defs>\n       <use xlink:href=\"#DejaVuSans-48\"/>\n      </g>\n     </g>\n    </g>\n    <g id=\"xtick_2\">\n     <g id=\"line2d_2\">\n      <g>\n       <use style=\"stroke:#000000;stroke-width:0.8;\" x=\"101.67\" xlink:href=\"#mf2cb08912a\" y=\"224.64\"/>\n      </g>\n     </g>\n     <g id=\"text_2\">\n      <!-- 5 -->\n      <g transform=\"translate(98.48875 239.238437)scale(0.1 -0.1)\">\n       <defs>\n        <path d=\"M 10.796875 72.90625 \nL 49.515625 72.90625 \nL 49.515625 64.59375 \nL 19.828125 64.59375 \nL 19.828125 46.734375 \nQ 21.96875 47.46875 24.109375 47.828125 \nQ 26.265625 48.1875 28.421875 48.1875 \nQ 40.625 48.1875 47.75 41.5 \nQ 54.890625 34.8125 54.890625 23.390625 \nQ 54.890625 11.625 47.5625 5.09375 \nQ 40.234375 -1.421875 26.90625 -1.421875 \nQ 22.3125 -1.421875 17.546875 -0.640625 \nQ 12.796875 0.140625 7.71875 1.703125 \nL 7.71875 11.625 \nQ 12.109375 9.234375 16.796875 8.0625 \nQ 21.484375 6.890625 26.703125 6.890625 \nQ 35.15625 6.890625 40.078125 11.328125 \nQ 45.015625 15.765625 45.015625 23.390625 \nQ 45.015625 31 40.078125 35.4375 \nQ 35.15625 39.890625 26.703125 39.890625 \nQ 22.75 39.890625 18.8125 39.015625 \nQ 14.890625 38.140625 10.796875 36.28125 \nz\n\" id=\"DejaVuSans-53\"/>\n       </defs>\n       <use xlink:href=\"#DejaVuSans-53\"/>\n      </g>\n     </g>\n    </g>\n    <g id=\"xtick_3\">\n     <g id=\"line2d_3\">\n      <g>\n       <use style=\"stroke:#000000;stroke-width:0.8;\" x=\"169.62\" xlink:href=\"#mf2cb08912a\" y=\"224.64\"/>\n      </g>\n     </g>\n     <g id=\"text_3\">\n      <!-- 10 -->\n      <g transform=\"translate(163.2575 239.238437)scale(0.1 -0.1)\">\n       <defs>\n        <path d=\"M 12.40625 8.296875 \nL 28.515625 8.296875 \nL 28.515625 63.921875 \nL 10.984375 60.40625 \nL 10.984375 69.390625 \nL 28.421875 72.90625 \nL 38.28125 72.90625 \nL 38.28125 8.296875 \nL 54.390625 8.296875 \nL 54.390625 0 \nL 12.40625 0 \nz\n\" id=\"DejaVuSans-49\"/>\n       </defs>\n       <use xlink:href=\"#DejaVuSans-49\"/>\n       <use x=\"63.623047\" xlink:href=\"#DejaVuSans-48\"/>\n      </g>\n     </g>\n    </g>\n    <g id=\"xtick_4\">\n     <g id=\"line2d_4\">\n      <g>\n       <use style=\"stroke:#000000;stroke-width:0.8;\" x=\"237.57\" xlink:href=\"#mf2cb08912a\" y=\"224.64\"/>\n      </g>\n     </g>\n     <g id=\"text_4\">\n      <!-- 15 -->\n      <g transform=\"translate(231.2075 239.238437)scale(0.1 -0.1)\">\n       <use xlink:href=\"#DejaVuSans-49\"/>\n       <use x=\"63.623047\" xlink:href=\"#DejaVuSans-53\"/>\n      </g>\n     </g>\n    </g>\n    <g id=\"xtick_5\">\n     <g id=\"line2d_5\">\n      <g>\n       <use style=\"stroke:#000000;stroke-width:0.8;\" x=\"305.52\" xlink:href=\"#mf2cb08912a\" y=\"224.64\"/>\n      </g>\n     </g>\n     <g id=\"text_5\">\n      <!-- 20 -->\n      <g transform=\"translate(299.1575 239.238437)scale(0.1 -0.1)\">\n       <defs>\n        <path d=\"M 19.1875 8.296875 \nL 53.609375 8.296875 \nL 53.609375 0 \nL 7.328125 0 \nL 7.328125 8.296875 \nQ 12.9375 14.109375 22.625 23.890625 \nQ 32.328125 33.6875 34.8125 36.53125 \nQ 39.546875 41.84375 41.421875 45.53125 \nQ 43.3125 49.21875 43.3125 52.78125 \nQ 43.3125 58.59375 39.234375 62.25 \nQ 35.15625 65.921875 28.609375 65.921875 \nQ 23.96875 65.921875 18.8125 64.3125 \nQ 13.671875 62.703125 7.8125 59.421875 \nL 7.8125 69.390625 \nQ 13.765625 71.78125 18.9375 73 \nQ 24.125 74.21875 28.421875 74.21875 \nQ 39.75 74.21875 46.484375 68.546875 \nQ 53.21875 62.890625 53.21875 53.421875 \nQ 53.21875 48.921875 51.53125 44.890625 \nQ 49.859375 40.875 45.40625 35.40625 \nQ 44.1875 33.984375 37.640625 27.21875 \nQ 31.109375 20.453125 19.1875 8.296875 \nz\n\" id=\"DejaVuSans-50\"/>\n       </defs>\n       <use xlink:href=\"#DejaVuSans-50\"/>\n       <use x=\"63.623047\" xlink:href=\"#DejaVuSans-48\"/>\n      </g>\n     </g>\n    </g>\n   </g>\n   <g id=\"matplotlib.axis_2\">\n    <g id=\"ytick_1\">\n     <g id=\"line2d_6\">\n      <defs>\n       <path d=\"M 0 0 \nL -3.5 0 \n\" id=\"m1faf6d8055\" style=\"stroke:#000000;stroke-width:0.8;\"/>\n      </defs>\n      <g>\n       <use style=\"stroke:#000000;stroke-width:0.8;\" x=\"26.925\" xlink:href=\"#m1faf6d8055\" y=\"217.845\"/>\n      </g>\n     </g>\n     <g id=\"text_6\">\n      <!-- 0 -->\n      <g transform=\"translate(13.5625 221.644219)scale(0.1 -0.1)\">\n       <use xlink:href=\"#DejaVuSans-48\"/>\n      </g>\n     </g>\n    </g>\n    <g id=\"ytick_2\">\n     <g id=\"line2d_7\">\n      <g>\n       <use style=\"stroke:#000000;stroke-width:0.8;\" x=\"26.925\" xlink:href=\"#m1faf6d8055\" y=\"190.665\"/>\n      </g>\n     </g>\n     <g id=\"text_7\">\n      <!-- 2 -->\n      <g transform=\"translate(13.5625 194.464219)scale(0.1 -0.1)\">\n       <use xlink:href=\"#DejaVuSans-50\"/>\n      </g>\n     </g>\n    </g>\n    <g id=\"ytick_3\">\n     <g id=\"line2d_8\">\n      <g>\n       <use style=\"stroke:#000000;stroke-width:0.8;\" x=\"26.925\" xlink:href=\"#m1faf6d8055\" y=\"163.485\"/>\n      </g>\n     </g>\n     <g id=\"text_8\">\n      <!-- 4 -->\n      <g transform=\"translate(13.5625 167.284219)scale(0.1 -0.1)\">\n       <defs>\n        <path d=\"M 37.796875 64.3125 \nL 12.890625 25.390625 \nL 37.796875 25.390625 \nz\nM 35.203125 72.90625 \nL 47.609375 72.90625 \nL 47.609375 25.390625 \nL 58.015625 25.390625 \nL 58.015625 17.1875 \nL 47.609375 17.1875 \nL 47.609375 0 \nL 37.796875 0 \nL 37.796875 17.1875 \nL 4.890625 17.1875 \nL 4.890625 26.703125 \nz\n\" id=\"DejaVuSans-52\"/>\n       </defs>\n       <use xlink:href=\"#DejaVuSans-52\"/>\n      </g>\n     </g>\n    </g>\n    <g id=\"ytick_4\">\n     <g id=\"line2d_9\">\n      <g>\n       <use style=\"stroke:#000000;stroke-width:0.8;\" x=\"26.925\" xlink:href=\"#m1faf6d8055\" y=\"136.305\"/>\n      </g>\n     </g>\n     <g id=\"text_9\">\n      <!-- 6 -->\n      <g transform=\"translate(13.5625 140.104219)scale(0.1 -0.1)\">\n       <defs>\n        <path d=\"M 33.015625 40.375 \nQ 26.375 40.375 22.484375 35.828125 \nQ 18.609375 31.296875 18.609375 23.390625 \nQ 18.609375 15.53125 22.484375 10.953125 \nQ 26.375 6.390625 33.015625 6.390625 \nQ 39.65625 6.390625 43.53125 10.953125 \nQ 47.40625 15.53125 47.40625 23.390625 \nQ 47.40625 31.296875 43.53125 35.828125 \nQ 39.65625 40.375 33.015625 40.375 \nz\nM 52.59375 71.296875 \nL 52.59375 62.3125 \nQ 48.875 64.0625 45.09375 64.984375 \nQ 41.3125 65.921875 37.59375 65.921875 \nQ 27.828125 65.921875 22.671875 59.328125 \nQ 17.53125 52.734375 16.796875 39.40625 \nQ 19.671875 43.65625 24.015625 45.921875 \nQ 28.375 48.1875 33.59375 48.1875 \nQ 44.578125 48.1875 50.953125 41.515625 \nQ 57.328125 34.859375 57.328125 23.390625 \nQ 57.328125 12.15625 50.6875 5.359375 \nQ 44.046875 -1.421875 33.015625 -1.421875 \nQ 20.359375 -1.421875 13.671875 8.265625 \nQ 6.984375 17.96875 6.984375 36.375 \nQ 6.984375 53.65625 15.1875 63.9375 \nQ 23.390625 74.21875 37.203125 74.21875 \nQ 40.921875 74.21875 44.703125 73.484375 \nQ 48.484375 72.75 52.59375 71.296875 \nz\n\" id=\"DejaVuSans-54\"/>\n       </defs>\n       <use xlink:href=\"#DejaVuSans-54\"/>\n      </g>\n     </g>\n    </g>\n    <g id=\"ytick_5\">\n     <g id=\"line2d_10\">\n      <g>\n       <use style=\"stroke:#000000;stroke-width:0.8;\" x=\"26.925\" xlink:href=\"#m1faf6d8055\" y=\"109.125\"/>\n      </g>\n     </g>\n     <g id=\"text_10\">\n      <!-- 8 -->\n      <g transform=\"translate(13.5625 112.924219)scale(0.1 -0.1)\">\n       <defs>\n        <path d=\"M 31.78125 34.625 \nQ 24.75 34.625 20.71875 30.859375 \nQ 16.703125 27.09375 16.703125 20.515625 \nQ 16.703125 13.921875 20.71875 10.15625 \nQ 24.75 6.390625 31.78125 6.390625 \nQ 38.8125 6.390625 42.859375 10.171875 \nQ 46.921875 13.96875 46.921875 20.515625 \nQ 46.921875 27.09375 42.890625 30.859375 \nQ 38.875 34.625 31.78125 34.625 \nz\nM 21.921875 38.8125 \nQ 15.578125 40.375 12.03125 44.71875 \nQ 8.5 49.078125 8.5 55.328125 \nQ 8.5 64.0625 14.71875 69.140625 \nQ 20.953125 74.21875 31.78125 74.21875 \nQ 42.671875 74.21875 48.875 69.140625 \nQ 55.078125 64.0625 55.078125 55.328125 \nQ 55.078125 49.078125 51.53125 44.71875 \nQ 48 40.375 41.703125 38.8125 \nQ 48.828125 37.15625 52.796875 32.3125 \nQ 56.78125 27.484375 56.78125 20.515625 \nQ 56.78125 9.90625 50.3125 4.234375 \nQ 43.84375 -1.421875 31.78125 -1.421875 \nQ 19.734375 -1.421875 13.25 4.234375 \nQ 6.78125 9.90625 6.78125 20.515625 \nQ 6.78125 27.484375 10.78125 32.3125 \nQ 14.796875 37.15625 21.921875 38.8125 \nz\nM 18.3125 54.390625 \nQ 18.3125 48.734375 21.84375 45.5625 \nQ 25.390625 42.390625 31.78125 42.390625 \nQ 38.140625 42.390625 41.71875 45.5625 \nQ 45.3125 48.734375 45.3125 54.390625 \nQ 45.3125 60.0625 41.71875 63.234375 \nQ 38.140625 66.40625 31.78125 66.40625 \nQ 25.390625 66.40625 21.84375 63.234375 \nQ 18.3125 60.0625 18.3125 54.390625 \nz\n\" id=\"DejaVuSans-56\"/>\n       </defs>\n       <use xlink:href=\"#DejaVuSans-56\"/>\n      </g>\n     </g>\n    </g>\n    <g id=\"ytick_6\">\n     <g id=\"line2d_11\">\n      <g>\n       <use style=\"stroke:#000000;stroke-width:0.8;\" x=\"26.925\" xlink:href=\"#m1faf6d8055\" y=\"81.945\"/>\n      </g>\n     </g>\n     <g id=\"text_11\">\n      <!-- 10 -->\n      <g transform=\"translate(7.2 85.744219)scale(0.1 -0.1)\">\n       <use xlink:href=\"#DejaVuSans-49\"/>\n       <use x=\"63.623047\" xlink:href=\"#DejaVuSans-48\"/>\n      </g>\n     </g>\n    </g>\n    <g id=\"ytick_7\">\n     <g id=\"line2d_12\">\n      <g>\n       <use style=\"stroke:#000000;stroke-width:0.8;\" x=\"26.925\" xlink:href=\"#m1faf6d8055\" y=\"54.765\"/>\n      </g>\n     </g>\n     <g id=\"text_12\">\n      <!-- 12 -->\n      <g transform=\"translate(7.2 58.564219)scale(0.1 -0.1)\">\n       <use xlink:href=\"#DejaVuSans-49\"/>\n       <use x=\"63.623047\" xlink:href=\"#DejaVuSans-50\"/>\n      </g>\n     </g>\n    </g>\n    <g id=\"ytick_8\">\n     <g id=\"line2d_13\">\n      <g>\n       <use style=\"stroke:#000000;stroke-width:0.8;\" x=\"26.925\" xlink:href=\"#m1faf6d8055\" y=\"27.585\"/>\n      </g>\n     </g>\n     <g id=\"text_13\">\n      <!-- 14 -->\n      <g transform=\"translate(7.2 31.384219)scale(0.1 -0.1)\">\n       <use xlink:href=\"#DejaVuSans-49\"/>\n       <use x=\"63.623047\" xlink:href=\"#DejaVuSans-52\"/>\n      </g>\n     </g>\n    </g>\n   </g>\n   <g id=\"patch_3\">\n    <path d=\"M 26.925 224.64 \nL 26.925 7.2 \n\" style=\"fill:none;stroke:#000000;stroke-linecap:square;stroke-linejoin:miter;stroke-width:0.8;\"/>\n   </g>\n   <g id=\"patch_4\">\n    <path d=\"M 353.085 224.64 \nL 353.085 7.2 \n\" style=\"fill:none;stroke:#000000;stroke-linecap:square;stroke-linejoin:miter;stroke-width:0.8;\"/>\n   </g>\n   <g id=\"patch_5\">\n    <path d=\"M 26.925 224.64 \nL 353.085 224.64 \n\" style=\"fill:none;stroke:#000000;stroke-linecap:square;stroke-linejoin:miter;stroke-width:0.8;\"/>\n   </g>\n   <g id=\"patch_6\">\n    <path d=\"M 26.925 7.2 \nL 353.085 7.2 \n\" style=\"fill:none;stroke:#000000;stroke-linecap:square;stroke-linejoin:miter;stroke-width:0.8;\"/>\n   </g>\n  </g>\n </g>\n <defs>\n  <clipPath id=\"p93e5cbecb5\">\n   <rect height=\"217.44\" width=\"326.16\" x=\"26.925\" y=\"7.2\"/>\n  </clipPath>\n </defs>\n</svg>\n",
      "image/png": "[encoded data removed]"
     },
     "metadata": {
      "needs_background": "light"
     }
    }
   ],
   "source": [
    "#Build graphs for the simulation\n",
    "for frame in range(50):\n",
    "  print('Building graph for frame %d' % frame)\n",
    "  world.step(dt=0.5)\n",
    "  states.append(fluid.state)\n",
    "\n",
    "\n",
    "print('Computing frames...')\n",
    "pylab.imshow(np.concatenate(session.run(fluid.density).data[...,0], axis=1), origin='lower', cmap='magma')"
   ]
  },
  {
   "cell_type": "code",
   "execution_count": 6,
   "metadata": {},
   "outputs": [
    {
     "output_type": "stream",
     "name": "stdout",
     "text": [
      "WARNING:tensorflow:From /home/intergalactic-mammoth/anaconda3/envs/tf/lib/python3.7/site-packages/tensorflow/python/ops/math_grad.py:1205: add_dispatch_support.<locals>.wrapper (from tensorflow.python.ops.array_ops) is deprecated and will be removed in a future version.\n",
      "Instructions for updating:\n",
      "Use tf.where in 2.0, which has the same broadcast rule as np.where\n",
      "Initial loss: 3517015.500000\n"
     ]
    }
   ],
   "source": [
    "#Define the target (a png image converted to numpy)\n",
    "import imageio\n",
    "\n",
    "target = imageio.imread('tum/tum_08.png')\n",
    "target = target[:,:,0]\n",
    "target = np.flip(target)\n",
    "target = target[:,::-1]\n",
    "target = np.expand_dims(target, axis=0)\n",
    "target = np.expand_dims(target, axis=3)\n",
    "\n",
    "val1 = np.max(fluid.density.data[0:,...])\n",
    "val2 = np.max(target)\n",
    "target = val1/val2 * target #normalize the target values to have similar magnitude to the simulation densities\n",
    "\n",
    "#Define loss, optimizer and start the session\n",
    "loss = math.l2_loss(fluid.density.data[0:,...] - target)\n",
    "optim = tf.train.AdamOptimizer(learning_rate=0.25).minimize(loss)\n",
    "session.initialize_variables()\n",
    "print('Initial loss: %f' % session.run(loss))"
   ]
  },
  {
   "cell_type": "code",
   "execution_count": 7,
   "metadata": {
    "tags": []
   },
   "outputs": [
    {
     "output_type": "stream",
     "name": "stdout",
     "text": [
      "Running optimization step 0. The first step sets up the adjoint graph.\n",
      "Loss: 3517015.500000\n",
      "Running optimization step 1. \n",
      "Loss: 3332979.250000\n",
      "Running optimization step 2. \n",
      "Loss: 3275586.500000\n",
      "Running optimization step 3. \n",
      "Loss: 3244541.000000\n",
      "Running optimization step 4. \n",
      "Loss: 3215570.000000\n",
      "Running optimization step 5. \n",
      "Loss: 3184809.750000\n",
      "Running optimization step 6. \n",
      "Loss: 3166660.250000\n",
      "Running optimization step 7. \n",
      "Loss: 3159864.250000\n",
      "Running optimization step 8. \n",
      "Loss: 3148300.250000\n",
      "Running optimization step 9. \n",
      "Loss: 3134955.000000\n",
      "Running optimization step 10. \n",
      "Loss: 3127038.500000\n",
      "Running optimization step 11. \n",
      "Loss: 3122041.000000\n",
      "Running optimization step 12. \n",
      "Loss: 3117738.000000\n",
      "Running optimization step 13. \n",
      "Loss: 3113576.000000\n",
      "Running optimization step 14. \n",
      "Loss: 3109682.000000\n",
      "Running optimization step 15. \n",
      "Loss: 3105719.250000\n",
      "Running optimization step 16. \n",
      "Loss: 3101732.750000\n",
      "Running optimization step 17. \n",
      "Loss: 3098789.500000\n",
      "Running optimization step 18. \n",
      "Loss: 3098488.000000\n",
      "Running optimization step 19. \n",
      "Loss: 3099150.500000\n",
      "Running optimization step 20. \n",
      "Loss: 3097635.000000\n",
      "Running optimization step 21. \n",
      "Loss: 3095713.750000\n",
      "Running optimization step 22. \n",
      "Loss: 3096142.000000\n",
      "Running optimization step 23. \n",
      "Loss: 3096077.000000\n",
      "Running optimization step 24. \n",
      "Loss: 3094188.500000\n",
      "Running optimization step 25. \n",
      "Loss: 3093330.000000\n",
      "Running optimization step 26. \n",
      "Loss: 3093242.750000\n",
      "Running optimization step 27. \n",
      "Loss: 3091516.500000\n",
      "Running optimization step 28. \n",
      "Loss: 3090759.500000\n",
      "Running optimization step 29. \n",
      "Loss: 3090586.000000\n",
      "Running optimization step 30. \n",
      "Loss: 3089259.000000\n",
      "Running optimization step 31. \n",
      "Loss: 3088890.000000\n",
      "Running optimization step 32. \n",
      "Loss: 3088700.000000\n",
      "Running optimization step 33. \n",
      "Loss: 3088097.250000\n",
      "Running optimization step 34. \n",
      "Loss: 3088272.750000\n",
      "Running optimization step 35. \n",
      "Loss: 3087562.250000\n",
      "Running optimization step 36. \n",
      "Loss: 3087701.000000\n",
      "Running optimization step 37. \n",
      "Loss: 3087154.000000\n",
      "Running optimization step 38. \n",
      "Loss: 3087227.000000\n",
      "Running optimization step 39. \n",
      "Loss: 3086772.250000\n",
      "Running optimization step 40. \n",
      "Loss: 3086672.000000\n",
      "Running optimization step 41. \n",
      "Loss: 3086289.000000\n",
      "Running optimization step 42. \n",
      "Loss: 3086160.750000\n",
      "Running optimization step 43. \n",
      "Loss: 3085751.000000\n",
      "Running optimization step 44. \n",
      "Loss: 3085543.000000\n",
      "Running optimization step 45. \n",
      "Loss: 3085131.000000\n",
      "Running optimization step 46. \n",
      "Loss: 3084996.000000\n",
      "Running optimization step 47. \n",
      "Loss: 3084570.500000\n",
      "Running optimization step 48. \n",
      "Loss: 3084270.000000\n",
      "Running optimization step 49. \n",
      "Loss: 3084012.750000\n",
      "Running optimization step 50. \n",
      "Loss: 3083743.250000\n",
      "Running optimization step 51. \n",
      "Loss: 3083440.500000\n",
      "Running optimization step 52. \n",
      "Loss: 3083134.750000\n",
      "Running optimization step 53. \n",
      "Loss: 3082757.500000\n",
      "Running optimization step 54. \n",
      "Loss: 3082420.750000\n",
      "Running optimization step 55. \n",
      "Loss: 3082001.250000\n",
      "Running optimization step 56. \n",
      "Loss: 3081620.000000\n",
      "Running optimization step 57. \n",
      "Loss: 3081186.500000\n",
      "Running optimization step 58. \n",
      "Loss: 3080750.000000\n",
      "Running optimization step 59. \n",
      "Loss: 3080294.750000\n",
      "Running optimization step 60. \n",
      "Loss: 3079829.500000\n",
      "Running optimization step 61. \n",
      "Loss: 3079393.500000\n",
      "Running optimization step 62. \n",
      "Loss: 3078937.000000\n",
      "Running optimization step 63. \n",
      "Loss: 3078469.500000\n",
      "Running optimization step 64. \n",
      "Loss: 3078057.500000\n",
      "Running optimization step 65. \n",
      "Loss: 3077645.500000\n",
      "Running optimization step 66. \n",
      "Loss: 3077254.500000\n",
      "Running optimization step 67. \n",
      "Loss: 3076886.750000\n",
      "Running optimization step 68. \n",
      "Loss: 3076535.500000\n",
      "Running optimization step 69. \n",
      "Loss: 3076217.250000\n",
      "Running optimization step 70. \n",
      "Loss: 3075937.500000\n",
      "Running optimization step 71. \n",
      "Loss: 3075710.000000\n",
      "Running optimization step 72. \n",
      "Loss: 3075500.750000\n",
      "Running optimization step 73. \n",
      "Loss: 3075275.500000\n",
      "Running optimization step 74. \n",
      "Loss: 3075019.250000\n",
      "Running optimization step 75. \n",
      "Loss: 3074728.500000\n",
      "Running optimization step 76. \n",
      "Loss: 3074415.500000\n",
      "Running optimization step 77. \n",
      "Loss: 3074121.500000\n",
      "Running optimization step 78. \n",
      "Loss: 3073865.750000\n",
      "Running optimization step 79. \n",
      "Loss: 3073646.500000\n",
      "Running optimization step 80. \n",
      "Loss: 3073425.500000\n",
      "Running optimization step 81. \n",
      "Loss: 3073170.750000\n",
      "Running optimization step 82. \n",
      "Loss: 3072863.250000\n",
      "Running optimization step 83. \n",
      "Loss: 3072547.250000\n",
      "Running optimization step 84. \n",
      "Loss: 3072117.250000\n",
      "Running optimization step 85. \n",
      "Loss: 3071604.500000\n",
      "Running optimization step 86. \n",
      "Loss: 3071114.000000\n",
      "Running optimization step 87. \n",
      "Loss: 3070708.750000\n",
      "Running optimization step 88. \n",
      "Loss: 3070319.500000\n",
      "Running optimization step 89. \n",
      "Loss: 3069930.500000\n",
      "Running optimization step 90. \n",
      "Loss: 3069533.500000\n",
      "Running optimization step 91. \n",
      "Loss: 3069030.000000\n",
      "Running optimization step 92. \n",
      "Loss: 3068644.500000\n",
      "Running optimization step 93. \n",
      "Loss: 3068300.000000\n",
      "Running optimization step 94. \n",
      "Loss: 3067887.500000\n",
      "Running optimization step 95. \n",
      "Loss: 3067764.500000\n",
      "Running optimization step 96. \n",
      "Loss: 3067514.500000\n",
      "Running optimization step 97. \n",
      "Loss: 3067445.500000\n",
      "Running optimization step 98. \n",
      "Loss: 3067172.250000\n",
      "Running optimization step 99. \n",
      "Loss: 3066969.250000\n"
     ]
    }
   ],
   "source": [
    "#Run optimization\n",
    "\n",
    "for optim_step in range(100):\n",
    "  print('Running optimization step %d. %s' % (optim_step, '' if optim_step else 'The first step sets up the adjoint graph.'))\n",
    "  _, loss_value = session.run([optim, loss])\n",
    "  print('Loss: %f' % loss_value)"
   ]
  },
  {
   "cell_type": "code",
   "execution_count": 8,
   "metadata": {},
   "outputs": [
    {
     "output_type": "execute_result",
     "data": {
      "text/plain": [
       "<matplotlib.image.AxesImage at 0x7f2bc2d506d0>"
      ]
     },
     "metadata": {},
     "execution_count": 8
    },
    {
     "output_type": "display_data",
     "data": {
      "text/plain": "<Figure size 432x288 with 1 Axes>",
      "image/svg+xml": "<?xml version=\"1.0\" encoding=\"utf-8\" standalone=\"no\"?>\n<!DOCTYPE svg PUBLIC \"-//W3C//DTD SVG 1.1//EN\"\n  \"http://www.w3.org/Graphics/SVG/1.1/DTD/svg11.dtd\">\n<!-- Created with matplotlib (https://matplotlib.org/) -->\n<svg height=\"248.518125pt\" version=\"1.1\" viewBox=\"0 0 360.285 248.518125\" width=\"360.285pt\" xmlns=\"http://www.w3.org/2000/svg\" xmlns:xlink=\"http://www.w3.org/1999/xlink\">\n <metadata>\n  <rdf:RDF xmlns:cc=\"http://creativecommons.org/ns#\" xmlns:dc=\"http://purl.org/dc/elements/1.1/\" xmlns:rdf=\"http://www.w3.org/1999/02/22-rdf-syntax-ns#\">\n   <cc:Work>\n    <dc:type rdf:resource=\"http://purl.org/dc/dcmitype/StillImage\"/>\n    <dc:date>2021-01-03T23:00:59.789402</dc:date>\n    <dc:format>image/svg+xml</dc:format>\n    <dc:creator>\n     <cc:Agent>\n      <dc:title>Matplotlib v3.3.3, https://matplotlib.org/</dc:title>\n     </cc:Agent>\n    </dc:creator>\n   </cc:Work>\n  </rdf:RDF>\n </metadata>\n <defs>\n  <style type=\"text/css\">*{stroke-linecap:butt;stroke-linejoin:round;}</style>\n </defs>\n <g id=\"figure_1\">\n  <g id=\"patch_1\">\n   <path d=\"M 0 248.518125 \nL 360.285 248.518125 \nL 360.285 0 \nL 0 0 \nz\n\" style=\"fill:none;\"/>\n  </g>\n  <g id=\"axes_1\">\n   <g id=\"patch_2\">\n    <path d=\"M 26.925 224.64 \nL 353.085 224.64 \nL 353.085 7.2 \nL 26.925 7.2 \nz\n\" style=\"fill:#ffffff;\"/>\n   </g>\n   <g clip-path=\"url(#p6f10d18570)\">\n    <image height=\"218\" id=\"image9a1b42d66d\" transform=\"scale(1 -1)translate(0 -218)\" width=\"327\" x=\"26.925\" xlink:href=\"data:image/png;base64,\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\" y=\"-6.64\"/>\n   </g>\n   <g id=\"matplotlib.axis_1\">\n    <g id=\"xtick_1\">\n     <g id=\"line2d_1\">\n      <defs>\n       <path d=\"M 0 0 \nL 0 3.5 \n\" id=\"m4a5806e7f4\" style=\"stroke:#000000;stroke-width:0.8;\"/>\n      </defs>\n      <g>\n       <use style=\"stroke:#000000;stroke-width:0.8;\" x=\"33.72\" xlink:href=\"#m4a5806e7f4\" y=\"224.64\"/>\n      </g>\n     </g>\n     <g id=\"text_1\">\n      <!-- 0 -->\n      <g transform=\"translate(30.53875 239.238437)scale(0.1 -0.1)\">\n       <defs>\n        <path d=\"M 31.78125 66.40625 \nQ 24.171875 66.40625 20.328125 58.90625 \nQ 16.5 51.421875 16.5 36.375 \nQ 16.5 21.390625 20.328125 13.890625 \nQ 24.171875 6.390625 31.78125 6.390625 \nQ 39.453125 6.390625 43.28125 13.890625 \nQ 47.125 21.390625 47.125 36.375 \nQ 47.125 51.421875 43.28125 58.90625 \nQ 39.453125 66.40625 31.78125 66.40625 \nz\nM 31.78125 74.21875 \nQ 44.046875 74.21875 50.515625 64.515625 \nQ 56.984375 54.828125 56.984375 36.375 \nQ 56.984375 17.96875 50.515625 8.265625 \nQ 44.046875 -1.421875 31.78125 -1.421875 \nQ 19.53125 -1.421875 13.0625 8.265625 \nQ 6.59375 17.96875 6.59375 36.375 \nQ 6.59375 54.828125 13.0625 64.515625 \nQ 19.53125 74.21875 31.78125 74.21875 \nz\n\" id=\"DejaVuSans-48\"/>\n       </defs>\n       <use xlink:href=\"#DejaVuSans-48\"/>\n      </g>\n     </g>\n    </g>\n    <g id=\"xtick_2\">\n     <g id=\"line2d_2\">\n      <g>\n       <use style=\"stroke:#000000;stroke-width:0.8;\" x=\"101.67\" xlink:href=\"#m4a5806e7f4\" y=\"224.64\"/>\n      </g>\n     </g>\n     <g id=\"text_2\">\n      <!-- 5 -->\n      <g transform=\"translate(98.48875 239.238437)scale(0.1 -0.1)\">\n       <defs>\n        <path d=\"M 10.796875 72.90625 \nL 49.515625 72.90625 \nL 49.515625 64.59375 \nL 19.828125 64.59375 \nL 19.828125 46.734375 \nQ 21.96875 47.46875 24.109375 47.828125 \nQ 26.265625 48.1875 28.421875 48.1875 \nQ 40.625 48.1875 47.75 41.5 \nQ 54.890625 34.8125 54.890625 23.390625 \nQ 54.890625 11.625 47.5625 5.09375 \nQ 40.234375 -1.421875 26.90625 -1.421875 \nQ 22.3125 -1.421875 17.546875 -0.640625 \nQ 12.796875 0.140625 7.71875 1.703125 \nL 7.71875 11.625 \nQ 12.109375 9.234375 16.796875 8.0625 \nQ 21.484375 6.890625 26.703125 6.890625 \nQ 35.15625 6.890625 40.078125 11.328125 \nQ 45.015625 15.765625 45.015625 23.390625 \nQ 45.015625 31 40.078125 35.4375 \nQ 35.15625 39.890625 26.703125 39.890625 \nQ 22.75 39.890625 18.8125 39.015625 \nQ 14.890625 38.140625 10.796875 36.28125 \nz\n\" id=\"DejaVuSans-53\"/>\n       </defs>\n       <use xlink:href=\"#DejaVuSans-53\"/>\n      </g>\n     </g>\n    </g>\n    <g id=\"xtick_3\">\n     <g id=\"line2d_3\">\n      <g>\n       <use style=\"stroke:#000000;stroke-width:0.8;\" x=\"169.62\" xlink:href=\"#m4a5806e7f4\" y=\"224.64\"/>\n      </g>\n     </g>\n     <g id=\"text_3\">\n      <!-- 10 -->\n      <g transform=\"translate(163.2575 239.238437)scale(0.1 -0.1)\">\n       <defs>\n        <path d=\"M 12.40625 8.296875 \nL 28.515625 8.296875 \nL 28.515625 63.921875 \nL 10.984375 60.40625 \nL 10.984375 69.390625 \nL 28.421875 72.90625 \nL 38.28125 72.90625 \nL 38.28125 8.296875 \nL 54.390625 8.296875 \nL 54.390625 0 \nL 12.40625 0 \nz\n\" id=\"DejaVuSans-49\"/>\n       </defs>\n       <use xlink:href=\"#DejaVuSans-49\"/>\n       <use x=\"63.623047\" xlink:href=\"#DejaVuSans-48\"/>\n      </g>\n     </g>\n    </g>\n    <g id=\"xtick_4\">\n     <g id=\"line2d_4\">\n      <g>\n       <use style=\"stroke:#000000;stroke-width:0.8;\" x=\"237.57\" xlink:href=\"#m4a5806e7f4\" y=\"224.64\"/>\n      </g>\n     </g>\n     <g id=\"text_4\">\n      <!-- 15 -->\n      <g transform=\"translate(231.2075 239.238437)scale(0.1 -0.1)\">\n       <use xlink:href=\"#DejaVuSans-49\"/>\n       <use x=\"63.623047\" xlink:href=\"#DejaVuSans-53\"/>\n      </g>\n     </g>\n    </g>\n    <g id=\"xtick_5\">\n     <g id=\"line2d_5\">\n      <g>\n       <use style=\"stroke:#000000;stroke-width:0.8;\" x=\"305.52\" xlink:href=\"#m4a5806e7f4\" y=\"224.64\"/>\n      </g>\n     </g>\n     <g id=\"text_5\">\n      <!-- 20 -->\n      <g transform=\"translate(299.1575 239.238437)scale(0.1 -0.1)\">\n       <defs>\n        <path d=\"M 19.1875 8.296875 \nL 53.609375 8.296875 \nL 53.609375 0 \nL 7.328125 0 \nL 7.328125 8.296875 \nQ 12.9375 14.109375 22.625 23.890625 \nQ 32.328125 33.6875 34.8125 36.53125 \nQ 39.546875 41.84375 41.421875 45.53125 \nQ 43.3125 49.21875 43.3125 52.78125 \nQ 43.3125 58.59375 39.234375 62.25 \nQ 35.15625 65.921875 28.609375 65.921875 \nQ 23.96875 65.921875 18.8125 64.3125 \nQ 13.671875 62.703125 7.8125 59.421875 \nL 7.8125 69.390625 \nQ 13.765625 71.78125 18.9375 73 \nQ 24.125 74.21875 28.421875 74.21875 \nQ 39.75 74.21875 46.484375 68.546875 \nQ 53.21875 62.890625 53.21875 53.421875 \nQ 53.21875 48.921875 51.53125 44.890625 \nQ 49.859375 40.875 45.40625 35.40625 \nQ 44.1875 33.984375 37.640625 27.21875 \nQ 31.109375 20.453125 19.1875 8.296875 \nz\n\" id=\"DejaVuSans-50\"/>\n       </defs>\n       <use xlink:href=\"#DejaVuSans-50\"/>\n       <use x=\"63.623047\" xlink:href=\"#DejaVuSans-48\"/>\n      </g>\n     </g>\n    </g>\n   </g>\n   <g id=\"matplotlib.axis_2\">\n    <g id=\"ytick_1\">\n     <g id=\"line2d_6\">\n      <defs>\n       <path d=\"M 0 0 \nL -3.5 0 \n\" id=\"m8eed272507\" style=\"stroke:#000000;stroke-width:0.8;\"/>\n      </defs>\n      <g>\n       <use style=\"stroke:#000000;stroke-width:0.8;\" x=\"26.925\" xlink:href=\"#m8eed272507\" y=\"217.845\"/>\n      </g>\n     </g>\n     <g id=\"text_6\">\n      <!-- 0 -->\n      <g transform=\"translate(13.5625 221.644219)scale(0.1 -0.1)\">\n       <use xlink:href=\"#DejaVuSans-48\"/>\n      </g>\n     </g>\n    </g>\n    <g id=\"ytick_2\">\n     <g id=\"line2d_7\">\n      <g>\n       <use style=\"stroke:#000000;stroke-width:0.8;\" x=\"26.925\" xlink:href=\"#m8eed272507\" y=\"190.665\"/>\n      </g>\n     </g>\n     <g id=\"text_7\">\n      <!-- 2 -->\n      <g transform=\"translate(13.5625 194.464219)scale(0.1 -0.1)\">\n       <use xlink:href=\"#DejaVuSans-50\"/>\n      </g>\n     </g>\n    </g>\n    <g id=\"ytick_3\">\n     <g id=\"line2d_8\">\n      <g>\n       <use style=\"stroke:#000000;stroke-width:0.8;\" x=\"26.925\" xlink:href=\"#m8eed272507\" y=\"163.485\"/>\n      </g>\n     </g>\n     <g id=\"text_8\">\n      <!-- 4 -->\n      <g transform=\"translate(13.5625 167.284219)scale(0.1 -0.1)\">\n       <defs>\n        <path d=\"M 37.796875 64.3125 \nL 12.890625 25.390625 \nL 37.796875 25.390625 \nz\nM 35.203125 72.90625 \nL 47.609375 72.90625 \nL 47.609375 25.390625 \nL 58.015625 25.390625 \nL 58.015625 17.1875 \nL 47.609375 17.1875 \nL 47.609375 0 \nL 37.796875 0 \nL 37.796875 17.1875 \nL 4.890625 17.1875 \nL 4.890625 26.703125 \nz\n\" id=\"DejaVuSans-52\"/>\n       </defs>\n       <use xlink:href=\"#DejaVuSans-52\"/>\n      </g>\n     </g>\n    </g>\n    <g id=\"ytick_4\">\n     <g id=\"line2d_9\">\n      <g>\n       <use style=\"stroke:#000000;stroke-width:0.8;\" x=\"26.925\" xlink:href=\"#m8eed272507\" y=\"136.305\"/>\n      </g>\n     </g>\n     <g id=\"text_9\">\n      <!-- 6 -->\n      <g transform=\"translate(13.5625 140.104219)scale(0.1 -0.1)\">\n       <defs>\n        <path d=\"M 33.015625 40.375 \nQ 26.375 40.375 22.484375 35.828125 \nQ 18.609375 31.296875 18.609375 23.390625 \nQ 18.609375 15.53125 22.484375 10.953125 \nQ 26.375 6.390625 33.015625 6.390625 \nQ 39.65625 6.390625 43.53125 10.953125 \nQ 47.40625 15.53125 47.40625 23.390625 \nQ 47.40625 31.296875 43.53125 35.828125 \nQ 39.65625 40.375 33.015625 40.375 \nz\nM 52.59375 71.296875 \nL 52.59375 62.3125 \nQ 48.875 64.0625 45.09375 64.984375 \nQ 41.3125 65.921875 37.59375 65.921875 \nQ 27.828125 65.921875 22.671875 59.328125 \nQ 17.53125 52.734375 16.796875 39.40625 \nQ 19.671875 43.65625 24.015625 45.921875 \nQ 28.375 48.1875 33.59375 48.1875 \nQ 44.578125 48.1875 50.953125 41.515625 \nQ 57.328125 34.859375 57.328125 23.390625 \nQ 57.328125 12.15625 50.6875 5.359375 \nQ 44.046875 -1.421875 33.015625 -1.421875 \nQ 20.359375 -1.421875 13.671875 8.265625 \nQ 6.984375 17.96875 6.984375 36.375 \nQ 6.984375 53.65625 15.1875 63.9375 \nQ 23.390625 74.21875 37.203125 74.21875 \nQ 40.921875 74.21875 44.703125 73.484375 \nQ 48.484375 72.75 52.59375 71.296875 \nz\n\" id=\"DejaVuSans-54\"/>\n       </defs>\n       <use xlink:href=\"#DejaVuSans-54\"/>\n      </g>\n     </g>\n    </g>\n    <g id=\"ytick_5\">\n     <g id=\"line2d_10\">\n      <g>\n       <use style=\"stroke:#000000;stroke-width:0.8;\" x=\"26.925\" xlink:href=\"#m8eed272507\" y=\"109.125\"/>\n      </g>\n     </g>\n     <g id=\"text_10\">\n      <!-- 8 -->\n      <g transform=\"translate(13.5625 112.924219)scale(0.1 -0.1)\">\n       <defs>\n        <path d=\"M 31.78125 34.625 \nQ 24.75 34.625 20.71875 30.859375 \nQ 16.703125 27.09375 16.703125 20.515625 \nQ 16.703125 13.921875 20.71875 10.15625 \nQ 24.75 6.390625 31.78125 6.390625 \nQ 38.8125 6.390625 42.859375 10.171875 \nQ 46.921875 13.96875 46.921875 20.515625 \nQ 46.921875 27.09375 42.890625 30.859375 \nQ 38.875 34.625 31.78125 34.625 \nz\nM 21.921875 38.8125 \nQ 15.578125 40.375 12.03125 44.71875 \nQ 8.5 49.078125 8.5 55.328125 \nQ 8.5 64.0625 14.71875 69.140625 \nQ 20.953125 74.21875 31.78125 74.21875 \nQ 42.671875 74.21875 48.875 69.140625 \nQ 55.078125 64.0625 55.078125 55.328125 \nQ 55.078125 49.078125 51.53125 44.71875 \nQ 48 40.375 41.703125 38.8125 \nQ 48.828125 37.15625 52.796875 32.3125 \nQ 56.78125 27.484375 56.78125 20.515625 \nQ 56.78125 9.90625 50.3125 4.234375 \nQ 43.84375 -1.421875 31.78125 -1.421875 \nQ 19.734375 -1.421875 13.25 4.234375 \nQ 6.78125 9.90625 6.78125 20.515625 \nQ 6.78125 27.484375 10.78125 32.3125 \nQ 14.796875 37.15625 21.921875 38.8125 \nz\nM 18.3125 54.390625 \nQ 18.3125 48.734375 21.84375 45.5625 \nQ 25.390625 42.390625 31.78125 42.390625 \nQ 38.140625 42.390625 41.71875 45.5625 \nQ 45.3125 48.734375 45.3125 54.390625 \nQ 45.3125 60.0625 41.71875 63.234375 \nQ 38.140625 66.40625 31.78125 66.40625 \nQ 25.390625 66.40625 21.84375 63.234375 \nQ 18.3125 60.0625 18.3125 54.390625 \nz\n\" id=\"DejaVuSans-56\"/>\n       </defs>\n       <use xlink:href=\"#DejaVuSans-56\"/>\n      </g>\n     </g>\n    </g>\n    <g id=\"ytick_6\">\n     <g id=\"line2d_11\">\n      <g>\n       <use style=\"stroke:#000000;stroke-width:0.8;\" x=\"26.925\" xlink:href=\"#m8eed272507\" y=\"81.945\"/>\n      </g>\n     </g>\n     <g id=\"text_11\">\n      <!-- 10 -->\n      <g transform=\"translate(7.2 85.744219)scale(0.1 -0.1)\">\n       <use xlink:href=\"#DejaVuSans-49\"/>\n       <use x=\"63.623047\" xlink:href=\"#DejaVuSans-48\"/>\n      </g>\n     </g>\n    </g>\n    <g id=\"ytick_7\">\n     <g id=\"line2d_12\">\n      <g>\n       <use style=\"stroke:#000000;stroke-width:0.8;\" x=\"26.925\" xlink:href=\"#m8eed272507\" y=\"54.765\"/>\n      </g>\n     </g>\n     <g id=\"text_12\">\n      <!-- 12 -->\n      <g transform=\"translate(7.2 58.564219)scale(0.1 -0.1)\">\n       <use xlink:href=\"#DejaVuSans-49\"/>\n       <use x=\"63.623047\" xlink:href=\"#DejaVuSans-50\"/>\n      </g>\n     </g>\n    </g>\n    <g id=\"ytick_8\">\n     <g id=\"line2d_13\">\n      <g>\n       <use style=\"stroke:#000000;stroke-width:0.8;\" x=\"26.925\" xlink:href=\"#m8eed272507\" y=\"27.585\"/>\n      </g>\n     </g>\n     <g id=\"text_13\">\n      <!-- 14 -->\n      <g transform=\"translate(7.2 31.384219)scale(0.1 -0.1)\">\n       <use xlink:href=\"#DejaVuSans-49\"/>\n       <use x=\"63.623047\" xlink:href=\"#DejaVuSans-52\"/>\n      </g>\n     </g>\n    </g>\n   </g>\n   <g id=\"patch_3\">\n    <path d=\"M 26.925 224.64 \nL 26.925 7.2 \n\" style=\"fill:none;stroke:#000000;stroke-linecap:square;stroke-linejoin:miter;stroke-width:0.8;\"/>\n   </g>\n   <g id=\"patch_4\">\n    <path d=\"M 353.085 224.64 \nL 353.085 7.2 \n\" style=\"fill:none;stroke:#000000;stroke-linecap:square;stroke-linejoin:miter;stroke-width:0.8;\"/>\n   </g>\n   <g id=\"patch_5\">\n    <path d=\"M 26.925 224.64 \nL 353.085 224.64 \n\" style=\"fill:none;stroke:#000000;stroke-linecap:square;stroke-linejoin:miter;stroke-width:0.8;\"/>\n   </g>\n   <g id=\"patch_6\">\n    <path d=\"M 26.925 7.2 \nL 353.085 7.2 \n\" style=\"fill:none;stroke:#000000;stroke-linecap:square;stroke-linejoin:miter;stroke-width:0.8;\"/>\n   </g>\n  </g>\n </g>\n <defs>\n  <clipPath id=\"p6f10d18570\">\n   <rect height=\"217.44\" width=\"326.16\" x=\"26.925\" y=\"7.2\"/>\n  </clipPath>\n </defs>\n</svg>\n",
      "image/png": "[encoded data removed]"
     },
     "metadata": {
      "needs_background": "light"
     }
    }
   ],
   "source": [
    "#See what this thing did\n",
    "\n",
    "pylab.imshow(np.concatenate(session.run(fluid.density).data[...,0], axis=1), origin='lower', cmap='magma')"
   ]
  },
  {
   "cell_type": "code",
   "execution_count": 9,
   "metadata": {},
   "outputs": [],
   "source": [
    "#Checkout the optimized velocity field\n",
    "\n",
    "optimized_velocity_field = session.run(states[0].velocity).at_centers()"
   ]
  },
  {
   "cell_type": "code",
   "execution_count": null,
   "metadata": {},
   "outputs": [],
   "source": [
    "pylab.title('Initial y-velocity (optimized)')\n",
    "pylab.imshow(np.concatenate(optimized_velocity_field.data[...,0], axis=1), origin='lower')"
   ]
  },
  {
   "cell_type": "code",
   "execution_count": null,
   "metadata": {},
   "outputs": [],
   "source": [
    "pylab.title('Initial x-velocity (optimized)')\n",
    "pylab.imshow(np.concatenate(optimized_velocity_field.data[...,1], axis=1), origin='lower')"
   ]
  },
  {
   "cell_type": "code",
   "execution_count": 10,
   "metadata": {},
   "outputs": [
    {
     "output_type": "display_data",
     "data": {
      "text/plain": "<Figure size 432x288 with 1 Axes>",
      "image/svg+xml": "<?xml version=\"1.0\" encoding=\"utf-8\" standalone=\"no\"?>\n<!DOCTYPE svg PUBLIC \"-//W3C//DTD SVG 1.1//EN\"\n  \"http://www.w3.org/Graphics/SVG/1.1/DTD/svg11.dtd\">\n<!-- Created with matplotlib (https://matplotlib.org/) -->\n<svg height=\"248.518125pt\" version=\"1.1\" viewBox=\"0 0 360.285 248.518125\" width=\"360.285pt\" xmlns=\"http://www.w3.org/2000/svg\" xmlns:xlink=\"http://www.w3.org/1999/xlink\">\n <metadata>\n  <rdf:RDF xmlns:cc=\"http://creativecommons.org/ns#\" xmlns:dc=\"http://purl.org/dc/elements/1.1/\" xmlns:rdf=\"http://www.w3.org/1999/02/22-rdf-syntax-ns#\">\n   <cc:Work>\n    <dc:type rdf:resource=\"http://purl.org/dc/dcmitype/StillImage\"/>\n    <dc:date>2021-01-03T23:09:33.861807</dc:date>\n    <dc:format>image/svg+xml</dc:format>\n    <dc:creator>\n     <cc:Agent>\n      <dc:title>Matplotlib v3.3.3, https://matplotlib.org/</dc:title>\n     </cc:Agent>\n    </dc:creator>\n   </cc:Work>\n  </rdf:RDF>\n </metadata>\n <defs>\n  <style type=\"text/css\">*{stroke-linecap:butt;stroke-linejoin:round;}</style>\n </defs>\n <g id=\"figure_1\">\n  <g id=\"patch_1\">\n   <path d=\"M 0 248.518125 \nL 360.285 248.518125 \nL 360.285 0 \nL 0 0 \nz\n\" style=\"fill:none;\"/>\n  </g>\n  <g id=\"axes_1\">\n   <g id=\"patch_2\">\n    <path d=\"M 26.925 224.64 \nL 353.085 224.64 \nL 353.085 7.2 \nL 26.925 7.2 \nz\n\" style=\"fill:#ffffff;\"/>\n   </g>\n   <g clip-path=\"url(#p8ce70933c1)\">\n    <image height=\"218\" id=\"image8fd3a942ca\" transform=\"scale(1 -1)translate(0 -218)\" width=\"327\" x=\"27\" xlink:href=\"data:image/png;base64,\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\" y=\"-6.518125\"/>\n   </g>\n   <g id=\"matplotlib.axis_1\">\n    <g id=\"xtick_1\">\n     <g id=\"line2d_1\">\n      <defs>\n       <path d=\"M 0 0 \nL 0 3.5 \n\" id=\"mba2847451c\" style=\"stroke:#000000;stroke-width:0.8;\"/>\n      </defs>\n      <g>\n       <use style=\"stroke:#000000;stroke-width:0.8;\" x=\"33.72\" xlink:href=\"#mba2847451c\" y=\"224.64\"/>\n      </g>\n     </g>\n     <g id=\"text_1\">\n      <!-- 0 -->\n      <g transform=\"translate(30.53875 239.238437)scale(0.1 -0.1)\">\n       <defs>\n        <path d=\"M 31.78125 66.40625 \nQ 24.171875 66.40625 20.328125 58.90625 \nQ 16.5 51.421875 16.5 36.375 \nQ 16.5 21.390625 20.328125 13.890625 \nQ 24.171875 6.390625 31.78125 6.390625 \nQ 39.453125 6.390625 43.28125 13.890625 \nQ 47.125 21.390625 47.125 36.375 \nQ 47.125 51.421875 43.28125 58.90625 \nQ 39.453125 66.40625 31.78125 66.40625 \nz\nM 31.78125 74.21875 \nQ 44.046875 74.21875 50.515625 64.515625 \nQ 56.984375 54.828125 56.984375 36.375 \nQ 56.984375 17.96875 50.515625 8.265625 \nQ 44.046875 -1.421875 31.78125 -1.421875 \nQ 19.53125 -1.421875 13.0625 8.265625 \nQ 6.59375 17.96875 6.59375 36.375 \nQ 6.59375 54.828125 13.0625 64.515625 \nQ 19.53125 74.21875 31.78125 74.21875 \nz\n\" id=\"DejaVuSans-48\"/>\n       </defs>\n       <use xlink:href=\"#DejaVuSans-48\"/>\n      </g>\n     </g>\n    </g>\n    <g id=\"xtick_2\">\n     <g id=\"line2d_2\">\n      <g>\n       <use style=\"stroke:#000000;stroke-width:0.8;\" x=\"101.67\" xlink:href=\"#mba2847451c\" y=\"224.64\"/>\n      </g>\n     </g>\n     <g id=\"text_2\">\n      <!-- 5 -->\n      <g transform=\"translate(98.48875 239.238437)scale(0.1 -0.1)\">\n       <defs>\n        <path d=\"M 10.796875 72.90625 \nL 49.515625 72.90625 \nL 49.515625 64.59375 \nL 19.828125 64.59375 \nL 19.828125 46.734375 \nQ 21.96875 47.46875 24.109375 47.828125 \nQ 26.265625 48.1875 28.421875 48.1875 \nQ 40.625 48.1875 47.75 41.5 \nQ 54.890625 34.8125 54.890625 23.390625 \nQ 54.890625 11.625 47.5625 5.09375 \nQ 40.234375 -1.421875 26.90625 -1.421875 \nQ 22.3125 -1.421875 17.546875 -0.640625 \nQ 12.796875 0.140625 7.71875 1.703125 \nL 7.71875 11.625 \nQ 12.109375 9.234375 16.796875 8.0625 \nQ 21.484375 6.890625 26.703125 6.890625 \nQ 35.15625 6.890625 40.078125 11.328125 \nQ 45.015625 15.765625 45.015625 23.390625 \nQ 45.015625 31 40.078125 35.4375 \nQ 35.15625 39.890625 26.703125 39.890625 \nQ 22.75 39.890625 18.8125 39.015625 \nQ 14.890625 38.140625 10.796875 36.28125 \nz\n\" id=\"DejaVuSans-53\"/>\n       </defs>\n       <use xlink:href=\"#DejaVuSans-53\"/>\n      </g>\n     </g>\n    </g>\n    <g id=\"xtick_3\">\n     <g id=\"line2d_3\">\n      <g>\n       <use style=\"stroke:#000000;stroke-width:0.8;\" x=\"169.62\" xlink:href=\"#mba2847451c\" y=\"224.64\"/>\n      </g>\n     </g>\n     <g id=\"text_3\">\n      <!-- 10 -->\n      <g transform=\"translate(163.2575 239.238437)scale(0.1 -0.1)\">\n       <defs>\n        <path d=\"M 12.40625 8.296875 \nL 28.515625 8.296875 \nL 28.515625 63.921875 \nL 10.984375 60.40625 \nL 10.984375 69.390625 \nL 28.421875 72.90625 \nL 38.28125 72.90625 \nL 38.28125 8.296875 \nL 54.390625 8.296875 \nL 54.390625 0 \nL 12.40625 0 \nz\n\" id=\"DejaVuSans-49\"/>\n       </defs>\n       <use xlink:href=\"#DejaVuSans-49\"/>\n       <use x=\"63.623047\" xlink:href=\"#DejaVuSans-48\"/>\n      </g>\n     </g>\n    </g>\n    <g id=\"xtick_4\">\n     <g id=\"line2d_4\">\n      <g>\n       <use style=\"stroke:#000000;stroke-width:0.8;\" x=\"237.57\" xlink:href=\"#mba2847451c\" y=\"224.64\"/>\n      </g>\n     </g>\n     <g id=\"text_4\">\n      <!-- 15 -->\n      <g transform=\"translate(231.2075 239.238437)scale(0.1 -0.1)\">\n       <use xlink:href=\"#DejaVuSans-49\"/>\n       <use x=\"63.623047\" xlink:href=\"#DejaVuSans-53\"/>\n      </g>\n     </g>\n    </g>\n    <g id=\"xtick_5\">\n     <g id=\"line2d_5\">\n      <g>\n       <use style=\"stroke:#000000;stroke-width:0.8;\" x=\"305.52\" xlink:href=\"#mba2847451c\" y=\"224.64\"/>\n      </g>\n     </g>\n     <g id=\"text_5\">\n      <!-- 20 -->\n      <g transform=\"translate(299.1575 239.238437)scale(0.1 -0.1)\">\n       <defs>\n        <path d=\"M 19.1875 8.296875 \nL 53.609375 8.296875 \nL 53.609375 0 \nL 7.328125 0 \nL 7.328125 8.296875 \nQ 12.9375 14.109375 22.625 23.890625 \nQ 32.328125 33.6875 34.8125 36.53125 \nQ 39.546875 41.84375 41.421875 45.53125 \nQ 43.3125 49.21875 43.3125 52.78125 \nQ 43.3125 58.59375 39.234375 62.25 \nQ 35.15625 65.921875 28.609375 65.921875 \nQ 23.96875 65.921875 18.8125 64.3125 \nQ 13.671875 62.703125 7.8125 59.421875 \nL 7.8125 69.390625 \nQ 13.765625 71.78125 18.9375 73 \nQ 24.125 74.21875 28.421875 74.21875 \nQ 39.75 74.21875 46.484375 68.546875 \nQ 53.21875 62.890625 53.21875 53.421875 \nQ 53.21875 48.921875 51.53125 44.890625 \nQ 49.859375 40.875 45.40625 35.40625 \nQ 44.1875 33.984375 37.640625 27.21875 \nQ 31.109375 20.453125 19.1875 8.296875 \nz\n\" id=\"DejaVuSans-50\"/>\n       </defs>\n       <use xlink:href=\"#DejaVuSans-50\"/>\n       <use x=\"63.623047\" xlink:href=\"#DejaVuSans-48\"/>\n      </g>\n     </g>\n    </g>\n   </g>\n   <g id=\"matplotlib.axis_2\">\n    <g id=\"ytick_1\">\n     <g id=\"line2d_6\">\n      <defs>\n       <path d=\"M 0 0 \nL -3.5 0 \n\" id=\"m50716d9d04\" style=\"stroke:#000000;stroke-width:0.8;\"/>\n      </defs>\n      <g>\n       <use style=\"stroke:#000000;stroke-width:0.8;\" x=\"26.925\" xlink:href=\"#m50716d9d04\" y=\"217.845\"/>\n      </g>\n     </g>\n     <g id=\"text_6\">\n      <!-- 0 -->\n      <g transform=\"translate(13.5625 221.644219)scale(0.1 -0.1)\">\n       <use xlink:href=\"#DejaVuSans-48\"/>\n      </g>\n     </g>\n    </g>\n    <g id=\"ytick_2\">\n     <g id=\"line2d_7\">\n      <g>\n       <use style=\"stroke:#000000;stroke-width:0.8;\" x=\"26.925\" xlink:href=\"#m50716d9d04\" y=\"190.665\"/>\n      </g>\n     </g>\n     <g id=\"text_7\">\n      <!-- 2 -->\n      <g transform=\"translate(13.5625 194.464219)scale(0.1 -0.1)\">\n       <use xlink:href=\"#DejaVuSans-50\"/>\n      </g>\n     </g>\n    </g>\n    <g id=\"ytick_3\">\n     <g id=\"line2d_8\">\n      <g>\n       <use style=\"stroke:#000000;stroke-width:0.8;\" x=\"26.925\" xlink:href=\"#m50716d9d04\" y=\"163.485\"/>\n      </g>\n     </g>\n     <g id=\"text_8\">\n      <!-- 4 -->\n      <g transform=\"translate(13.5625 167.284219)scale(0.1 -0.1)\">\n       <defs>\n        <path d=\"M 37.796875 64.3125 \nL 12.890625 25.390625 \nL 37.796875 25.390625 \nz\nM 35.203125 72.90625 \nL 47.609375 72.90625 \nL 47.609375 25.390625 \nL 58.015625 25.390625 \nL 58.015625 17.1875 \nL 47.609375 17.1875 \nL 47.609375 0 \nL 37.796875 0 \nL 37.796875 17.1875 \nL 4.890625 17.1875 \nL 4.890625 26.703125 \nz\n\" id=\"DejaVuSans-52\"/>\n       </defs>\n       <use xlink:href=\"#DejaVuSans-52\"/>\n      </g>\n     </g>\n    </g>\n    <g id=\"ytick_4\">\n     <g id=\"line2d_9\">\n      <g>\n       <use style=\"stroke:#000000;stroke-width:0.8;\" x=\"26.925\" xlink:href=\"#m50716d9d04\" y=\"136.305\"/>\n      </g>\n     </g>\n     <g id=\"text_9\">\n      <!-- 6 -->\n      <g transform=\"translate(13.5625 140.104219)scale(0.1 -0.1)\">\n       <defs>\n        <path d=\"M 33.015625 40.375 \nQ 26.375 40.375 22.484375 35.828125 \nQ 18.609375 31.296875 18.609375 23.390625 \nQ 18.609375 15.53125 22.484375 10.953125 \nQ 26.375 6.390625 33.015625 6.390625 \nQ 39.65625 6.390625 43.53125 10.953125 \nQ 47.40625 15.53125 47.40625 23.390625 \nQ 47.40625 31.296875 43.53125 35.828125 \nQ 39.65625 40.375 33.015625 40.375 \nz\nM 52.59375 71.296875 \nL 52.59375 62.3125 \nQ 48.875 64.0625 45.09375 64.984375 \nQ 41.3125 65.921875 37.59375 65.921875 \nQ 27.828125 65.921875 22.671875 59.328125 \nQ 17.53125 52.734375 16.796875 39.40625 \nQ 19.671875 43.65625 24.015625 45.921875 \nQ 28.375 48.1875 33.59375 48.1875 \nQ 44.578125 48.1875 50.953125 41.515625 \nQ 57.328125 34.859375 57.328125 23.390625 \nQ 57.328125 12.15625 50.6875 5.359375 \nQ 44.046875 -1.421875 33.015625 -1.421875 \nQ 20.359375 -1.421875 13.671875 8.265625 \nQ 6.984375 17.96875 6.984375 36.375 \nQ 6.984375 53.65625 15.1875 63.9375 \nQ 23.390625 74.21875 37.203125 74.21875 \nQ 40.921875 74.21875 44.703125 73.484375 \nQ 48.484375 72.75 52.59375 71.296875 \nz\n\" id=\"DejaVuSans-54\"/>\n       </defs>\n       <use xlink:href=\"#DejaVuSans-54\"/>\n      </g>\n     </g>\n    </g>\n    <g id=\"ytick_5\">\n     <g id=\"line2d_10\">\n      <g>\n       <use style=\"stroke:#000000;stroke-width:0.8;\" x=\"26.925\" xlink:href=\"#m50716d9d04\" y=\"109.125\"/>\n      </g>\n     </g>\n     <g id=\"text_10\">\n      <!-- 8 -->\n      <g transform=\"translate(13.5625 112.924219)scale(0.1 -0.1)\">\n       <defs>\n        <path d=\"M 31.78125 34.625 \nQ 24.75 34.625 20.71875 30.859375 \nQ 16.703125 27.09375 16.703125 20.515625 \nQ 16.703125 13.921875 20.71875 10.15625 \nQ 24.75 6.390625 31.78125 6.390625 \nQ 38.8125 6.390625 42.859375 10.171875 \nQ 46.921875 13.96875 46.921875 20.515625 \nQ 46.921875 27.09375 42.890625 30.859375 \nQ 38.875 34.625 31.78125 34.625 \nz\nM 21.921875 38.8125 \nQ 15.578125 40.375 12.03125 44.71875 \nQ 8.5 49.078125 8.5 55.328125 \nQ 8.5 64.0625 14.71875 69.140625 \nQ 20.953125 74.21875 31.78125 74.21875 \nQ 42.671875 74.21875 48.875 69.140625 \nQ 55.078125 64.0625 55.078125 55.328125 \nQ 55.078125 49.078125 51.53125 44.71875 \nQ 48 40.375 41.703125 38.8125 \nQ 48.828125 37.15625 52.796875 32.3125 \nQ 56.78125 27.484375 56.78125 20.515625 \nQ 56.78125 9.90625 50.3125 4.234375 \nQ 43.84375 -1.421875 31.78125 -1.421875 \nQ 19.734375 -1.421875 13.25 4.234375 \nQ 6.78125 9.90625 6.78125 20.515625 \nQ 6.78125 27.484375 10.78125 32.3125 \nQ 14.796875 37.15625 21.921875 38.8125 \nz\nM 18.3125 54.390625 \nQ 18.3125 48.734375 21.84375 45.5625 \nQ 25.390625 42.390625 31.78125 42.390625 \nQ 38.140625 42.390625 41.71875 45.5625 \nQ 45.3125 48.734375 45.3125 54.390625 \nQ 45.3125 60.0625 41.71875 63.234375 \nQ 38.140625 66.40625 31.78125 66.40625 \nQ 25.390625 66.40625 21.84375 63.234375 \nQ 18.3125 60.0625 18.3125 54.390625 \nz\n\" id=\"DejaVuSans-56\"/>\n       </defs>\n       <use xlink:href=\"#DejaVuSans-56\"/>\n      </g>\n     </g>\n    </g>\n    <g id=\"ytick_6\">\n     <g id=\"line2d_11\">\n      <g>\n       <use style=\"stroke:#000000;stroke-width:0.8;\" x=\"26.925\" xlink:href=\"#m50716d9d04\" y=\"81.945\"/>\n      </g>\n     </g>\n     <g id=\"text_11\">\n      <!-- 10 -->\n      <g transform=\"translate(7.2 85.744219)scale(0.1 -0.1)\">\n       <use xlink:href=\"#DejaVuSans-49\"/>\n       <use x=\"63.623047\" xlink:href=\"#DejaVuSans-48\"/>\n      </g>\n     </g>\n    </g>\n    <g id=\"ytick_7\">\n     <g id=\"line2d_12\">\n      <g>\n       <use style=\"stroke:#000000;stroke-width:0.8;\" x=\"26.925\" xlink:href=\"#m50716d9d04\" y=\"54.765\"/>\n      </g>\n     </g>\n     <g id=\"text_12\">\n      <!-- 12 -->\n      <g transform=\"translate(7.2 58.564219)scale(0.1 -0.1)\">\n       <use xlink:href=\"#DejaVuSans-49\"/>\n       <use x=\"63.623047\" xlink:href=\"#DejaVuSans-50\"/>\n      </g>\n     </g>\n    </g>\n    <g id=\"ytick_8\">\n     <g id=\"line2d_13\">\n      <g>\n       <use style=\"stroke:#000000;stroke-width:0.8;\" x=\"26.925\" xlink:href=\"#m50716d9d04\" y=\"27.585\"/>\n      </g>\n     </g>\n     <g id=\"text_13\">\n      <!-- 14 -->\n      <g transform=\"translate(7.2 31.384219)scale(0.1 -0.1)\">\n       <use xlink:href=\"#DejaVuSans-49\"/>\n       <use x=\"63.623047\" xlink:href=\"#DejaVuSans-52\"/>\n      </g>\n     </g>\n    </g>\n   </g>\n   <g id=\"patch_3\">\n    <path d=\"M 26.925 224.64 \nL 26.925 7.2 \n\" style=\"fill:none;stroke:#000000;stroke-linecap:square;stroke-linejoin:miter;stroke-width:0.8;\"/>\n   </g>\n   <g id=\"patch_4\">\n    <path d=\"M 353.085 224.64 \nL 353.085 7.2 \n\" style=\"fill:none;stroke:#000000;stroke-linecap:square;stroke-linejoin:miter;stroke-width:0.8;\"/>\n   </g>\n   <g id=\"patch_5\">\n    <path d=\"M 26.925 224.64 \nL 353.085 224.64 \n\" style=\"fill:none;stroke:#000000;stroke-linecap:square;stroke-linejoin:miter;stroke-width:0.8;\"/>\n   </g>\n   <g id=\"patch_6\">\n    <path d=\"M 26.925 7.2 \nL 353.085 7.2 \n\" style=\"fill:none;stroke:#000000;stroke-linecap:square;stroke-linejoin:miter;stroke-width:0.8;\"/>\n   </g>\n  </g>\n </g>\n <defs>\n  <clipPath id=\"p8ce70933c1\">\n   <rect height=\"217.44\" width=\"326.16\" x=\"26.925\" y=\"7.2\"/>\n  </clipPath>\n </defs>\n</svg>\n",
      "image/png": "[encoded data removed]"
     },
     "metadata": {
      "needs_background": "light"
     }
    }
   ],
   "source": [
    "#Saving the optimized density fields as images\n",
    "\n",
    "if (save_imgs):\n",
    "    for i in range(len(states)):\n",
    "        save_name = \"tum/vis/tum%02d_frame%03d.png\"\n",
    "        pylab.imshow(np.concatenate(session.run(states[i].density).data[...,0], axis=1), origin='lower', cmap='magma')\n",
    "        print(\"Saving image frame %d\" % i)\n",
    "        pylab.savefig(save_name % (res, i), bbox_inches='tight')\n"
   ]
  },
  {
   "cell_type": "code",
   "execution_count": null,
   "metadata": {},
   "outputs": [],
   "source": [
    "###For Google collab\n",
    "\n",
    "#!zip -r /content/file.zip /content/\n",
    "#from google.colab import files\n",
    "#files.download(\"/content/file.zip\")"
   ]
  }
 ]
}